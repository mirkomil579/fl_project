{
  "cells": [
    {
      "cell_type": "code",
      "execution_count": 2,
      "metadata": {
        "id": "gDCRSXh5S_2u"
      },
      "outputs": [],
      "source": [
        "import torch\n",
        "import torch.nn as nn\n",
        "import torch.optim as optim\n",
        "import torch.nn.functional as F\n",
        "from torch.utils.data import DataLoader, Subset\n",
        "from torchvision import datasets, transforms\n",
        "import copy\n",
        "from tqdm import tqdm\n",
        "import random\n",
        "import matplotlib.pyplot as plt\n",
        "from datetime import datetime\n",
        "from dataset_sharder import DatasetSharder\n",
        "\n",
        "\n",
        "# =====================\n",
        "# Parameters\n",
        "# =====================\n",
        "\n",
        "K = 100              # Total number of clients\n",
        "C = 0.1              # Fraction of clients selected each round\n",
        "N_C = max(1, int(C*K))  # Number of selected clients each round\n",
        "N = 1000             # Total number of communication rounds\n",
        "J = 4                # Number of local epochs\n",
        "lr = 0.01             # Learning rate\n",
        "B = 64               # Batch size for client training\n",
        "test_freq = 10       # Frequency of evaluation on the test set\n",
        "\n",
        "# Device configuration\n",
        "device = torch.device(\"cuda\" if torch.cuda.is_available() else \"cpu\")\n"
      ]
    },
    {
      "cell_type": "code",
      "execution_count": 3,
      "metadata": {
        "colab": {
          "base_uri": "https://localhost:8080/"
        },
        "id": "WVkQNcH4TCcE",
        "outputId": "ad5589bc-9571-4de1-ae13-9b2e2914a79e"
      },
      "outputs": [
        {
          "name": "stdout",
          "output_type": "stream",
          "text": [
            "Files already downloaded and verified\n",
            "Files already downloaded and verified\n"
          ]
        }
      ],
      "source": [
        "\n",
        "# =====================\n",
        "# Data Loading and Preprocessing\n",
        "# =====================\n",
        "\n",
        "transform_train = transforms.Compose([\n",
        "    transforms.RandomCrop(32, padding=4),\n",
        "    transforms.RandomHorizontalFlip(),\n",
        "    transforms.ToTensor(),\n",
        "    transforms.Normalize((0.5071, 0.4865, 0.4409),\n",
        "                         (0.2673, 0.2564, 0.2761))\n",
        "])\n",
        "\n",
        "transform_test = transforms.Compose([\n",
        "    transforms.ToTensor(),\n",
        "    transforms.Normalize((0.5071, 0.4865, 0.4409),\n",
        "                         (0.2673, 0.2564, 0.2761))\n",
        "])\n",
        "\n",
        "# Load datasets\n",
        "trainset = datasets.CIFAR100(root='./data', train=True,\n",
        "                             download=True, transform=transform_train)\n",
        "testset = datasets.CIFAR100(root='./data', train=False,\n",
        "                            download=True, transform=transform_test)\n"
      ]
    },
    {
      "cell_type": "code",
      "execution_count": 4,
      "metadata": {
        "id": "MMFDk842TGbE"
      },
      "outputs": [],
      "source": [
        "\n",
        "# =====================\n",
        "# Data Sharding\n",
        "# =====================\n",
        "# Shard dataset among clients using IID sharding\n",
        "data_config = {\n",
        "    'K': K,\n",
        "    'shard_type': 'iid'\n",
        "}\n",
        "\n",
        "sharder = DatasetSharder(data_config, trainset)\n",
        "client_datasets = sharder.shard_dataset()\n",
        "\n",
        "# Create test data loader\n",
        "test_loader = DataLoader(testset, batch_size=B, shuffle=False, num_workers=2)\n"
      ]
    },
    {
      "cell_type": "code",
      "execution_count": 5,
      "metadata": {
        "id": "7d8SFcmGTHDs"
      },
      "outputs": [],
      "source": [
        "\n",
        "# =====================\n",
        "# EnhancedLeNet Model Definition\n",
        "# =====================\n",
        "\n",
        "class EnhancedLeNet(nn.Module):\n",
        "    def __init__(self):\n",
        "        super(EnhancedLeNet, self).__init__()\n",
        "        self.conv1 = nn.Conv2d(3, 64, kernel_size=5, padding=2)\n",
        "        self.bn1 = nn.BatchNorm2d(64)\n",
        "        self.pool1 = nn.MaxPool2d(2, 2)\n",
        "\n",
        "        self.conv2 = nn.Conv2d(64, 64, kernel_size=5, padding=2)\n",
        "        self.bn2 = nn.BatchNorm2d(64)\n",
        "        self.pool2 = nn.MaxPool2d(2, 2)\n",
        "\n",
        "        self.fc1 = nn.Linear(64 * 8 * 8, 384)\n",
        "        self.dropout1 = nn.Dropout(0.5)\n",
        "        self.fc2 = nn.Linear(384, 192)\n",
        "        self.dropout2 = nn.Dropout(0.5)\n",
        "        self.fc3 = nn.Linear(192, 100)\n",
        "\n",
        "    def forward(self, x):\n",
        "        x = self.pool1(F.relu(self.bn1(self.conv1(x))))\n",
        "        x = self.pool2(F.relu(self.bn2(self.conv2(x))))\n",
        "        x = x.view(-1, 64 * 8 * 8)\n",
        "        x = F.relu(self.fc1(x))\n",
        "        x = self.dropout1(x)\n",
        "        x = F.relu(self.fc2(x))\n",
        "        x = self.dropout2(x)\n",
        "        x = self.fc3(x)\n",
        "        return x\n"
      ]
    },
    {
      "cell_type": "code",
      "execution_count": 6,
      "metadata": {
        "id": "hlVIiFhUTInZ"
      },
      "outputs": [],
      "source": [
        "\n",
        "# =====================\n",
        "# Federated Learning Implementation\n",
        "# =====================\n",
        "\n",
        "class FedAvg:\n",
        "    def __init__(self, config, model, client_datasets, test_loader):\n",
        "        self.config = config\n",
        "        self.global_model = model\n",
        "        self.client_datasets = client_datasets\n",
        "        self.test_loader = test_loader\n",
        "        self.device = device\n",
        "        self.global_model.to(self.device)\n",
        "        self.criterion = nn.CrossEntropyLoss()\n",
        "        self.num_clients = config['num_clients']\n",
        "\n",
        "    def client_update(self, client_model, optimizer, train_loader):\n",
        "        client_model.train()\n",
        "        for epoch in range(self.config['local_epochs']):\n",
        "            for data, target in train_loader:\n",
        "                data, target = data.to(self.device), target.to(self.device)\n",
        "                optimizer.zero_grad()\n",
        "                output = client_model(data)\n",
        "                loss = self.criterion(output, target)\n",
        "                loss.backward()\n",
        "                optimizer.step()\n",
        "        return client_model.state_dict()\n",
        "\n",
        "    def aggregate(self, client_weights):\n",
        "        global_weights = copy.deepcopy(client_weights[0])\n",
        "        for key in global_weights.keys():\n",
        "            for i in range(1, len(client_weights)):\n",
        "                global_weights[key] += client_weights[i][key]\n",
        "            global_weights[key] = torch.div(global_weights[key], len(client_weights))\n",
        "        return global_weights\n",
        "\n",
        "    def test(self):\n",
        "        self.global_model.eval()\n",
        "        test_loss = 0\n",
        "        correct = 0\n",
        "        total = 0\n",
        "\n",
        "        with torch.no_grad():\n",
        "            for data, target in self.test_loader:\n",
        "                data, target = data.to(self.device), target.to(self.device)\n",
        "                outputs = self.global_model(data)\n",
        "                loss = self.criterion(outputs, target)\n",
        "                test_loss += loss.item()\n",
        "                _, predicted = torch.max(outputs.data, 1)\n",
        "                total += target.size(0)\n",
        "                correct += (predicted == target).sum().item()\n",
        "\n",
        "        accuracy = 100 * correct / total\n",
        "        avg_loss = test_loss / len(self.test_loader)\n",
        "        return accuracy, avg_loss\n",
        "\n",
        "    def run(self):\n",
        "        num_selected = max(1, int(self.config['client_fraction'] * self.num_clients))\n",
        "        test_losses = []\n",
        "        test_accuracies = []\n",
        "        rounds_list = []\n",
        "\n",
        "        for round_ in tqdm(range(self.config['rounds']), desc=\"Federated Training Rounds\"):\n",
        "            selected_clients = random.sample(range(self.num_clients), num_selected)\n",
        "            client_weights = []\n",
        "\n",
        "            for client_idx in selected_clients:\n",
        "                local_model = copy.deepcopy(self.global_model)\n",
        "                local_model.to(self.device)\n",
        "                optimizer = optim.SGD(local_model.parameters(),\n",
        "                                    lr=self.config['lr'],\n",
        "                                    momentum=0.9,\n",
        "                                    weight_decay=0.0004)\n",
        "\n",
        "                client_dataset = self.client_datasets[client_idx]\n",
        "                train_loader = DataLoader(client_dataset,\n",
        "                                        batch_size=self.config['batch_size'],\n",
        "                                        shuffle=True)\n",
        "\n",
        "                local_weights = self.client_update(local_model, optimizer, train_loader)\n",
        "                client_weights.append(local_weights)\n",
        "\n",
        "            global_weights = self.aggregate(client_weights)\n",
        "            self.global_model.load_state_dict(global_weights)\n",
        "\n",
        "            if (round_ + 1) % self.config['test_freq'] == 0 or round_ == 0:\n",
        "                accuracy, loss = self.test()\n",
        "                test_accuracies.append(accuracy)\n",
        "                test_losses.append(loss)\n",
        "                rounds_list.append(round_ + 1)\n",
        "                print(f\"\\nRound {round_+1}, Test Accuracy: {accuracy:.2f}%, Test Loss: {loss:.4f}\")\n",
        "\n",
        "        return test_accuracies, test_losses, rounds_list\n"
      ]
    },
    {
      "cell_type": "code",
      "execution_count": 7,
      "metadata": {
        "colab": {
          "base_uri": "https://localhost:8080/"
        },
        "id": "oyHhurgFTKX7",
        "outputId": "c495dd47-d2a3-4518-c804-ef2e430b4e0c"
      },
      "outputs": [
        {
          "name": "stdout",
          "output_type": "stream",
          "text": [
            "Starting Federated Learning training...\n"
          ]
        },
        {
          "name": "stderr",
          "output_type": "stream",
          "text": [
            "Federated Training Rounds:   0%|          | 1/1000 [00:13<3:36:31, 13.00s/it]"
          ]
        },
        {
          "name": "stdout",
          "output_type": "stream",
          "text": [
            "\n",
            "Round 1, Test Accuracy: 1.42%, Test Loss: 4.5982\n"
          ]
        },
        {
          "name": "stderr",
          "output_type": "stream",
          "text": [
            "Federated Training Rounds:   1%|          | 10/1000 [01:29<2:29:51,  9.08s/it]"
          ]
        },
        {
          "name": "stdout",
          "output_type": "stream",
          "text": [
            "\n",
            "Round 10, Test Accuracy: 9.69%, Test Loss: 3.9105\n"
          ]
        },
        {
          "name": "stderr",
          "output_type": "stream",
          "text": [
            "Federated Training Rounds:   2%|▏         | 20/1000 [02:52<2:23:07,  8.76s/it]"
          ]
        },
        {
          "name": "stdout",
          "output_type": "stream",
          "text": [
            "\n",
            "Round 20, Test Accuracy: 15.40%, Test Loss: 3.5683\n"
          ]
        },
        {
          "name": "stderr",
          "output_type": "stream",
          "text": [
            "Federated Training Rounds:   3%|▎         | 30/1000 [04:14<2:20:03,  8.66s/it]"
          ]
        },
        {
          "name": "stdout",
          "output_type": "stream",
          "text": [
            "\n",
            "Round 30, Test Accuracy: 19.50%, Test Loss: 3.3033\n"
          ]
        },
        {
          "name": "stderr",
          "output_type": "stream",
          "text": [
            "Federated Training Rounds:   4%|▍         | 40/1000 [05:38<2:23:28,  8.97s/it]"
          ]
        },
        {
          "name": "stdout",
          "output_type": "stream",
          "text": [
            "\n",
            "Round 40, Test Accuracy: 23.64%, Test Loss: 3.1079\n"
          ]
        },
        {
          "name": "stderr",
          "output_type": "stream",
          "text": [
            "Federated Training Rounds:   5%|▌         | 50/1000 [07:03<2:26:38,  9.26s/it]"
          ]
        },
        {
          "name": "stdout",
          "output_type": "stream",
          "text": [
            "\n",
            "Round 50, Test Accuracy: 26.04%, Test Loss: 2.9674\n"
          ]
        },
        {
          "name": "stderr",
          "output_type": "stream",
          "text": [
            "Federated Training Rounds:   6%|▌         | 60/1000 [08:27<2:19:48,  8.92s/it]"
          ]
        },
        {
          "name": "stdout",
          "output_type": "stream",
          "text": [
            "\n",
            "Round 60, Test Accuracy: 28.22%, Test Loss: 2.8521\n"
          ]
        },
        {
          "name": "stderr",
          "output_type": "stream",
          "text": [
            "Federated Training Rounds:   7%|▋         | 70/1000 [09:48<2:12:26,  8.54s/it]"
          ]
        },
        {
          "name": "stdout",
          "output_type": "stream",
          "text": [
            "\n",
            "Round 70, Test Accuracy: 30.41%, Test Loss: 2.7371\n"
          ]
        },
        {
          "name": "stderr",
          "output_type": "stream",
          "text": [
            "Federated Training Rounds:   8%|▊         | 80/1000 [11:09<2:12:23,  8.63s/it]"
          ]
        },
        {
          "name": "stdout",
          "output_type": "stream",
          "text": [
            "\n",
            "Round 80, Test Accuracy: 30.89%, Test Loss: 2.6749\n"
          ]
        },
        {
          "name": "stderr",
          "output_type": "stream",
          "text": [
            "Federated Training Rounds:   9%|▉         | 90/1000 [12:30<2:11:17,  8.66s/it]"
          ]
        },
        {
          "name": "stdout",
          "output_type": "stream",
          "text": [
            "\n",
            "Round 90, Test Accuracy: 32.49%, Test Loss: 2.5845\n"
          ]
        },
        {
          "name": "stderr",
          "output_type": "stream",
          "text": [
            "Federated Training Rounds:  10%|█         | 100/1000 [13:53<2:12:40,  8.84s/it]"
          ]
        },
        {
          "name": "stdout",
          "output_type": "stream",
          "text": [
            "\n",
            "Round 100, Test Accuracy: 34.50%, Test Loss: 2.5211\n"
          ]
        },
        {
          "name": "stderr",
          "output_type": "stream",
          "text": [
            "Federated Training Rounds:  11%|█         | 110/1000 [15:17<2:11:53,  8.89s/it]"
          ]
        },
        {
          "name": "stdout",
          "output_type": "stream",
          "text": [
            "\n",
            "Round 110, Test Accuracy: 35.11%, Test Loss: 2.4730\n"
          ]
        },
        {
          "name": "stderr",
          "output_type": "stream",
          "text": [
            "Federated Training Rounds:  12%|█▏        | 120/1000 [16:39<2:06:55,  8.65s/it]"
          ]
        },
        {
          "name": "stdout",
          "output_type": "stream",
          "text": [
            "\n",
            "Round 120, Test Accuracy: 35.67%, Test Loss: 2.4182\n"
          ]
        },
        {
          "name": "stderr",
          "output_type": "stream",
          "text": [
            "Federated Training Rounds:  13%|█▎        | 130/1000 [18:00<2:06:50,  8.75s/it]"
          ]
        },
        {
          "name": "stdout",
          "output_type": "stream",
          "text": [
            "\n",
            "Round 130, Test Accuracy: 37.58%, Test Loss: 2.3674\n"
          ]
        },
        {
          "name": "stderr",
          "output_type": "stream",
          "text": [
            "Federated Training Rounds:  14%|█▍        | 140/1000 [19:23<2:03:11,  8.60s/it]"
          ]
        },
        {
          "name": "stdout",
          "output_type": "stream",
          "text": [
            "\n",
            "Round 140, Test Accuracy: 37.64%, Test Loss: 2.3518\n"
          ]
        },
        {
          "name": "stderr",
          "output_type": "stream",
          "text": [
            "Federated Training Rounds:  15%|█▌        | 150/1000 [20:44<2:02:36,  8.65s/it]"
          ]
        },
        {
          "name": "stdout",
          "output_type": "stream",
          "text": [
            "\n",
            "Round 150, Test Accuracy: 38.48%, Test Loss: 2.3086\n"
          ]
        },
        {
          "name": "stderr",
          "output_type": "stream",
          "text": [
            "Federated Training Rounds:  16%|█▌        | 160/1000 [22:06<2:01:52,  8.70s/it]"
          ]
        },
        {
          "name": "stdout",
          "output_type": "stream",
          "text": [
            "\n",
            "Round 160, Test Accuracy: 39.67%, Test Loss: 2.2685\n"
          ]
        },
        {
          "name": "stderr",
          "output_type": "stream",
          "text": [
            "Federated Training Rounds:  17%|█▋        | 170/1000 [23:27<1:58:24,  8.56s/it]"
          ]
        },
        {
          "name": "stdout",
          "output_type": "stream",
          "text": [
            "\n",
            "Round 170, Test Accuracy: 40.62%, Test Loss: 2.2344\n"
          ]
        },
        {
          "name": "stderr",
          "output_type": "stream",
          "text": [
            "Federated Training Rounds:  18%|█▊        | 180/1000 [24:50<2:00:45,  8.84s/it]"
          ]
        },
        {
          "name": "stdout",
          "output_type": "stream",
          "text": [
            "\n",
            "Round 180, Test Accuracy: 40.99%, Test Loss: 2.2232\n"
          ]
        },
        {
          "name": "stderr",
          "output_type": "stream",
          "text": [
            "Federated Training Rounds:  19%|█▉        | 190/1000 [26:15<2:03:08,  9.12s/it]"
          ]
        },
        {
          "name": "stdout",
          "output_type": "stream",
          "text": [
            "\n",
            "Round 190, Test Accuracy: 40.90%, Test Loss: 2.2003\n"
          ]
        },
        {
          "name": "stderr",
          "output_type": "stream",
          "text": [
            "Federated Training Rounds:  20%|██        | 200/1000 [27:38<1:56:59,  8.77s/it]"
          ]
        },
        {
          "name": "stdout",
          "output_type": "stream",
          "text": [
            "\n",
            "Round 200, Test Accuracy: 41.26%, Test Loss: 2.1664\n"
          ]
        },
        {
          "name": "stderr",
          "output_type": "stream",
          "text": [
            "Federated Training Rounds:  21%|██        | 210/1000 [28:59<1:54:08,  8.67s/it]"
          ]
        },
        {
          "name": "stdout",
          "output_type": "stream",
          "text": [
            "\n",
            "Round 210, Test Accuracy: 42.91%, Test Loss: 2.1278\n"
          ]
        },
        {
          "name": "stderr",
          "output_type": "stream",
          "text": [
            "Federated Training Rounds:  22%|██▏       | 220/1000 [30:21<1:52:46,  8.67s/it]"
          ]
        },
        {
          "name": "stdout",
          "output_type": "stream",
          "text": [
            "\n",
            "Round 220, Test Accuracy: 42.84%, Test Loss: 2.1156\n"
          ]
        },
        {
          "name": "stderr",
          "output_type": "stream",
          "text": [
            "Federated Training Rounds:  23%|██▎       | 230/1000 [31:44<1:55:43,  9.02s/it]"
          ]
        },
        {
          "name": "stdout",
          "output_type": "stream",
          "text": [
            "\n",
            "Round 230, Test Accuracy: 43.31%, Test Loss: 2.0967\n"
          ]
        },
        {
          "name": "stderr",
          "output_type": "stream",
          "text": [
            "Federated Training Rounds:  24%|██▍       | 240/1000 [33:06<1:50:00,  8.68s/it]"
          ]
        },
        {
          "name": "stdout",
          "output_type": "stream",
          "text": [
            "\n",
            "Round 240, Test Accuracy: 44.10%, Test Loss: 2.0710\n"
          ]
        },
        {
          "name": "stderr",
          "output_type": "stream",
          "text": [
            "Federated Training Rounds:  25%|██▌       | 250/1000 [34:30<1:49:41,  8.78s/it]"
          ]
        },
        {
          "name": "stdout",
          "output_type": "stream",
          "text": [
            "\n",
            "Round 250, Test Accuracy: 44.59%, Test Loss: 2.0547\n"
          ]
        },
        {
          "name": "stderr",
          "output_type": "stream",
          "text": [
            "Federated Training Rounds:  26%|██▌       | 260/1000 [35:52<1:48:18,  8.78s/it]"
          ]
        },
        {
          "name": "stdout",
          "output_type": "stream",
          "text": [
            "\n",
            "Round 260, Test Accuracy: 44.83%, Test Loss: 2.0405\n"
          ]
        },
        {
          "name": "stderr",
          "output_type": "stream",
          "text": [
            "Federated Training Rounds:  27%|██▋       | 270/1000 [37:15<1:46:19,  8.74s/it]"
          ]
        },
        {
          "name": "stdout",
          "output_type": "stream",
          "text": [
            "\n",
            "Round 270, Test Accuracy: 45.15%, Test Loss: 2.0395\n"
          ]
        },
        {
          "name": "stderr",
          "output_type": "stream",
          "text": [
            "Federated Training Rounds:  28%|██▊       | 280/1000 [38:38<1:45:25,  8.79s/it]"
          ]
        },
        {
          "name": "stdout",
          "output_type": "stream",
          "text": [
            "\n",
            "Round 280, Test Accuracy: 45.91%, Test Loss: 2.0079\n"
          ]
        },
        {
          "name": "stderr",
          "output_type": "stream",
          "text": [
            "Federated Training Rounds:  29%|██▉       | 290/1000 [40:00<1:43:03,  8.71s/it]"
          ]
        },
        {
          "name": "stdout",
          "output_type": "stream",
          "text": [
            "\n",
            "Round 290, Test Accuracy: 46.46%, Test Loss: 1.9798\n"
          ]
        },
        {
          "name": "stderr",
          "output_type": "stream",
          "text": [
            "Federated Training Rounds:  30%|███       | 300/1000 [41:23<1:42:56,  8.82s/it]"
          ]
        },
        {
          "name": "stdout",
          "output_type": "stream",
          "text": [
            "\n",
            "Round 300, Test Accuracy: 46.45%, Test Loss: 1.9826\n"
          ]
        },
        {
          "name": "stderr",
          "output_type": "stream",
          "text": [
            "Federated Training Rounds:  31%|███       | 310/1000 [42:45<1:40:25,  8.73s/it]"
          ]
        },
        {
          "name": "stdout",
          "output_type": "stream",
          "text": [
            "\n",
            "Round 310, Test Accuracy: 46.47%, Test Loss: 1.9673\n"
          ]
        },
        {
          "name": "stderr",
          "output_type": "stream",
          "text": [
            "Federated Training Rounds:  32%|███▏      | 320/1000 [44:08<1:38:50,  8.72s/it]"
          ]
        },
        {
          "name": "stdout",
          "output_type": "stream",
          "text": [
            "\n",
            "Round 320, Test Accuracy: 47.41%, Test Loss: 1.9522\n"
          ]
        },
        {
          "name": "stderr",
          "output_type": "stream",
          "text": [
            "Federated Training Rounds:  33%|███▎      | 330/1000 [45:29<1:35:49,  8.58s/it]"
          ]
        },
        {
          "name": "stdout",
          "output_type": "stream",
          "text": [
            "\n",
            "Round 330, Test Accuracy: 47.32%, Test Loss: 1.9427\n"
          ]
        },
        {
          "name": "stderr",
          "output_type": "stream",
          "text": [
            "Federated Training Rounds:  34%|███▍      | 340/1000 [46:50<1:34:24,  8.58s/it]"
          ]
        },
        {
          "name": "stdout",
          "output_type": "stream",
          "text": [
            "\n",
            "Round 340, Test Accuracy: 47.67%, Test Loss: 1.9281\n"
          ]
        },
        {
          "name": "stderr",
          "output_type": "stream",
          "text": [
            "Federated Training Rounds:  35%|███▌      | 350/1000 [48:11<1:34:48,  8.75s/it]"
          ]
        },
        {
          "name": "stdout",
          "output_type": "stream",
          "text": [
            "\n",
            "Round 350, Test Accuracy: 48.30%, Test Loss: 1.9138\n"
          ]
        },
        {
          "name": "stderr",
          "output_type": "stream",
          "text": [
            "Federated Training Rounds:  36%|███▌      | 360/1000 [49:33<1:32:43,  8.69s/it]"
          ]
        },
        {
          "name": "stdout",
          "output_type": "stream",
          "text": [
            "\n",
            "Round 360, Test Accuracy: 48.06%, Test Loss: 1.8987\n"
          ]
        },
        {
          "name": "stderr",
          "output_type": "stream",
          "text": [
            "Federated Training Rounds:  37%|███▋      | 370/1000 [50:54<1:31:09,  8.68s/it]"
          ]
        },
        {
          "name": "stdout",
          "output_type": "stream",
          "text": [
            "\n",
            "Round 370, Test Accuracy: 48.34%, Test Loss: 1.8870\n"
          ]
        },
        {
          "name": "stderr",
          "output_type": "stream",
          "text": [
            "Federated Training Rounds:  38%|███▊      | 380/1000 [52:16<1:30:20,  8.74s/it]"
          ]
        },
        {
          "name": "stdout",
          "output_type": "stream",
          "text": [
            "\n",
            "Round 380, Test Accuracy: 48.35%, Test Loss: 1.8862\n"
          ]
        },
        {
          "name": "stderr",
          "output_type": "stream",
          "text": [
            "Federated Training Rounds:  39%|███▉      | 390/1000 [53:37<1:26:24,  8.50s/it]"
          ]
        },
        {
          "name": "stdout",
          "output_type": "stream",
          "text": [
            "\n",
            "Round 390, Test Accuracy: 49.54%, Test Loss: 1.8718\n"
          ]
        },
        {
          "name": "stderr",
          "output_type": "stream",
          "text": [
            "Federated Training Rounds:  40%|████      | 400/1000 [54:57<1:25:22,  8.54s/it]"
          ]
        },
        {
          "name": "stdout",
          "output_type": "stream",
          "text": [
            "\n",
            "Round 400, Test Accuracy: 49.01%, Test Loss: 1.8697\n"
          ]
        },
        {
          "name": "stderr",
          "output_type": "stream",
          "text": [
            "Federated Training Rounds:  41%|████      | 410/1000 [56:16<1:23:01,  8.44s/it]"
          ]
        },
        {
          "name": "stdout",
          "output_type": "stream",
          "text": [
            "\n",
            "Round 410, Test Accuracy: 49.87%, Test Loss: 1.8534\n"
          ]
        },
        {
          "name": "stderr",
          "output_type": "stream",
          "text": [
            "Federated Training Rounds:  42%|████▏     | 420/1000 [57:35<1:20:24,  8.32s/it]"
          ]
        },
        {
          "name": "stdout",
          "output_type": "stream",
          "text": [
            "\n",
            "Round 420, Test Accuracy: 49.98%, Test Loss: 1.8449\n"
          ]
        },
        {
          "name": "stderr",
          "output_type": "stream",
          "text": [
            "Federated Training Rounds:  43%|████▎     | 430/1000 [58:54<1:20:24,  8.46s/it]"
          ]
        },
        {
          "name": "stdout",
          "output_type": "stream",
          "text": [
            "\n",
            "Round 430, Test Accuracy: 49.76%, Test Loss: 1.8353\n"
          ]
        },
        {
          "name": "stderr",
          "output_type": "stream",
          "text": [
            "Federated Training Rounds:  44%|████▍     | 440/1000 [1:00:13<1:18:05,  8.37s/it]"
          ]
        },
        {
          "name": "stdout",
          "output_type": "stream",
          "text": [
            "\n",
            "Round 440, Test Accuracy: 50.44%, Test Loss: 1.8273\n"
          ]
        },
        {
          "name": "stderr",
          "output_type": "stream",
          "text": [
            "Federated Training Rounds:  45%|████▌     | 450/1000 [1:01:32<1:18:08,  8.53s/it]"
          ]
        },
        {
          "name": "stdout",
          "output_type": "stream",
          "text": [
            "\n",
            "Round 450, Test Accuracy: 50.52%, Test Loss: 1.8182\n"
          ]
        },
        {
          "name": "stderr",
          "output_type": "stream",
          "text": [
            "Federated Training Rounds:  46%|████▌     | 460/1000 [1:02:51<1:15:12,  8.36s/it]"
          ]
        },
        {
          "name": "stdout",
          "output_type": "stream",
          "text": [
            "\n",
            "Round 460, Test Accuracy: 50.23%, Test Loss: 1.8277\n"
          ]
        },
        {
          "name": "stderr",
          "output_type": "stream",
          "text": [
            "Federated Training Rounds:  47%|████▋     | 470/1000 [1:04:09<1:12:56,  8.26s/it]"
          ]
        },
        {
          "name": "stdout",
          "output_type": "stream",
          "text": [
            "\n",
            "Round 470, Test Accuracy: 50.67%, Test Loss: 1.8001\n"
          ]
        },
        {
          "name": "stderr",
          "output_type": "stream",
          "text": [
            "Federated Training Rounds:  48%|████▊     | 480/1000 [1:05:29<1:13:11,  8.45s/it]"
          ]
        },
        {
          "name": "stdout",
          "output_type": "stream",
          "text": [
            "\n",
            "Round 480, Test Accuracy: 50.83%, Test Loss: 1.7966\n"
          ]
        },
        {
          "name": "stderr",
          "output_type": "stream",
          "text": [
            "Federated Training Rounds:  49%|████▉     | 490/1000 [1:06:47<1:10:32,  8.30s/it]"
          ]
        },
        {
          "name": "stdout",
          "output_type": "stream",
          "text": [
            "\n",
            "Round 490, Test Accuracy: 51.53%, Test Loss: 1.7835\n"
          ]
        },
        {
          "name": "stderr",
          "output_type": "stream",
          "text": [
            "Federated Training Rounds:  50%|█████     | 500/1000 [1:08:07<1:10:56,  8.51s/it]"
          ]
        },
        {
          "name": "stdout",
          "output_type": "stream",
          "text": [
            "\n",
            "Round 500, Test Accuracy: 51.48%, Test Loss: 1.7791\n"
          ]
        },
        {
          "name": "stderr",
          "output_type": "stream",
          "text": [
            "Federated Training Rounds:  51%|█████     | 510/1000 [1:09:25<1:08:28,  8.39s/it]"
          ]
        },
        {
          "name": "stdout",
          "output_type": "stream",
          "text": [
            "\n",
            "Round 510, Test Accuracy: 51.65%, Test Loss: 1.7671\n"
          ]
        },
        {
          "name": "stderr",
          "output_type": "stream",
          "text": [
            "Federated Training Rounds:  52%|█████▏    | 520/1000 [1:10:44<1:06:51,  8.36s/it]"
          ]
        },
        {
          "name": "stdout",
          "output_type": "stream",
          "text": [
            "\n",
            "Round 520, Test Accuracy: 51.61%, Test Loss: 1.7737\n"
          ]
        },
        {
          "name": "stderr",
          "output_type": "stream",
          "text": [
            "Federated Training Rounds:  53%|█████▎    | 530/1000 [1:12:03<1:05:35,  8.37s/it]"
          ]
        },
        {
          "name": "stdout",
          "output_type": "stream",
          "text": [
            "\n",
            "Round 530, Test Accuracy: 51.46%, Test Loss: 1.7727\n"
          ]
        },
        {
          "name": "stderr",
          "output_type": "stream",
          "text": [
            "Federated Training Rounds:  54%|█████▍    | 540/1000 [1:13:22<1:03:36,  8.30s/it]"
          ]
        },
        {
          "name": "stdout",
          "output_type": "stream",
          "text": [
            "\n",
            "Round 540, Test Accuracy: 52.08%, Test Loss: 1.7570\n"
          ]
        },
        {
          "name": "stderr",
          "output_type": "stream",
          "text": [
            "Federated Training Rounds:  55%|█████▌    | 550/1000 [1:14:41<1:03:11,  8.42s/it]"
          ]
        },
        {
          "name": "stdout",
          "output_type": "stream",
          "text": [
            "\n",
            "Round 550, Test Accuracy: 52.47%, Test Loss: 1.7577\n"
          ]
        },
        {
          "name": "stderr",
          "output_type": "stream",
          "text": [
            "Federated Training Rounds:  56%|█████▌    | 560/1000 [1:15:59<1:01:26,  8.38s/it]"
          ]
        },
        {
          "name": "stdout",
          "output_type": "stream",
          "text": [
            "\n",
            "Round 560, Test Accuracy: 52.26%, Test Loss: 1.7474\n"
          ]
        },
        {
          "name": "stderr",
          "output_type": "stream",
          "text": [
            "Federated Training Rounds:  57%|█████▋    | 570/1000 [1:17:18<59:13,  8.26s/it]"
          ]
        },
        {
          "name": "stdout",
          "output_type": "stream",
          "text": [
            "\n",
            "Round 570, Test Accuracy: 52.34%, Test Loss: 1.7620\n"
          ]
        },
        {
          "name": "stderr",
          "output_type": "stream",
          "text": [
            "Federated Training Rounds:  58%|█████▊    | 580/1000 [1:18:37<59:10,  8.45s/it]"
          ]
        },
        {
          "name": "stdout",
          "output_type": "stream",
          "text": [
            "\n",
            "Round 580, Test Accuracy: 52.70%, Test Loss: 1.7398\n"
          ]
        },
        {
          "name": "stderr",
          "output_type": "stream",
          "text": [
            "Federated Training Rounds:  59%|█████▉    | 590/1000 [1:19:55<56:26,  8.26s/it]"
          ]
        },
        {
          "name": "stdout",
          "output_type": "stream",
          "text": [
            "\n",
            "Round 590, Test Accuracy: 52.79%, Test Loss: 1.7342\n"
          ]
        },
        {
          "name": "stderr",
          "output_type": "stream",
          "text": [
            "Federated Training Rounds:  60%|██████    | 600/1000 [1:21:14<56:21,  8.45s/it]"
          ]
        },
        {
          "name": "stdout",
          "output_type": "stream",
          "text": [
            "\n",
            "Round 600, Test Accuracy: 52.64%, Test Loss: 1.7269\n"
          ]
        },
        {
          "name": "stderr",
          "output_type": "stream",
          "text": [
            "Federated Training Rounds:  61%|██████    | 610/1000 [1:22:32<54:01,  8.31s/it]"
          ]
        },
        {
          "name": "stdout",
          "output_type": "stream",
          "text": [
            "\n",
            "Round 610, Test Accuracy: 52.48%, Test Loss: 1.7264\n"
          ]
        },
        {
          "name": "stderr",
          "output_type": "stream",
          "text": [
            "Federated Training Rounds:  62%|██████▏   | 620/1000 [1:23:49<52:12,  8.24s/it]"
          ]
        },
        {
          "name": "stdout",
          "output_type": "stream",
          "text": [
            "\n",
            "Round 620, Test Accuracy: 52.37%, Test Loss: 1.7399\n"
          ]
        },
        {
          "name": "stderr",
          "output_type": "stream",
          "text": [
            "Federated Training Rounds:  63%|██████▎   | 630/1000 [1:25:08<52:24,  8.50s/it]"
          ]
        },
        {
          "name": "stdout",
          "output_type": "stream",
          "text": [
            "\n",
            "Round 630, Test Accuracy: 53.29%, Test Loss: 1.7085\n"
          ]
        },
        {
          "name": "stderr",
          "output_type": "stream",
          "text": [
            "Federated Training Rounds:  64%|██████▍   | 640/1000 [1:26:26<49:53,  8.32s/it]"
          ]
        },
        {
          "name": "stdout",
          "output_type": "stream",
          "text": [
            "\n",
            "Round 640, Test Accuracy: 53.03%, Test Loss: 1.7106\n"
          ]
        },
        {
          "name": "stderr",
          "output_type": "stream",
          "text": [
            "Federated Training Rounds:  65%|██████▌   | 650/1000 [1:27:44<47:41,  8.17s/it]"
          ]
        },
        {
          "name": "stdout",
          "output_type": "stream",
          "text": [
            "\n",
            "Round 650, Test Accuracy: 53.44%, Test Loss: 1.7118\n"
          ]
        },
        {
          "name": "stderr",
          "output_type": "stream",
          "text": [
            "Federated Training Rounds:  66%|██████▌   | 660/1000 [1:29:03<48:04,  8.48s/it]"
          ]
        },
        {
          "name": "stdout",
          "output_type": "stream",
          "text": [
            "\n",
            "Round 660, Test Accuracy: 53.59%, Test Loss: 1.7063\n"
          ]
        },
        {
          "name": "stderr",
          "output_type": "stream",
          "text": [
            "Federated Training Rounds:  67%|██████▋   | 670/1000 [1:30:21<45:47,  8.32s/it]"
          ]
        },
        {
          "name": "stdout",
          "output_type": "stream",
          "text": [
            "\n",
            "Round 670, Test Accuracy: 53.12%, Test Loss: 1.7078\n"
          ]
        },
        {
          "name": "stderr",
          "output_type": "stream",
          "text": [
            "Federated Training Rounds:  68%|██████▊   | 680/1000 [1:31:39<43:24,  8.14s/it]"
          ]
        },
        {
          "name": "stdout",
          "output_type": "stream",
          "text": [
            "\n",
            "Round 680, Test Accuracy: 53.56%, Test Loss: 1.7029\n"
          ]
        },
        {
          "name": "stderr",
          "output_type": "stream",
          "text": [
            "Federated Training Rounds:  69%|██████▉   | 690/1000 [1:32:58<43:14,  8.37s/it]"
          ]
        },
        {
          "name": "stdout",
          "output_type": "stream",
          "text": [
            "\n",
            "Round 690, Test Accuracy: 53.28%, Test Loss: 1.7017\n"
          ]
        },
        {
          "name": "stderr",
          "output_type": "stream",
          "text": [
            "Federated Training Rounds:  70%|███████   | 700/1000 [1:34:15<41:10,  8.23s/it]"
          ]
        },
        {
          "name": "stdout",
          "output_type": "stream",
          "text": [
            "\n",
            "Round 700, Test Accuracy: 52.92%, Test Loss: 1.7162\n"
          ]
        },
        {
          "name": "stderr",
          "output_type": "stream",
          "text": [
            "Federated Training Rounds:  71%|███████   | 710/1000 [1:35:33<39:27,  8.16s/it]"
          ]
        },
        {
          "name": "stdout",
          "output_type": "stream",
          "text": [
            "\n",
            "Round 710, Test Accuracy: 53.77%, Test Loss: 1.6897\n"
          ]
        },
        {
          "name": "stderr",
          "output_type": "stream",
          "text": [
            "Federated Training Rounds:  72%|███████▏  | 720/1000 [1:36:51<38:48,  8.31s/it]"
          ]
        },
        {
          "name": "stdout",
          "output_type": "stream",
          "text": [
            "\n",
            "Round 720, Test Accuracy: 53.92%, Test Loss: 1.6863\n"
          ]
        },
        {
          "name": "stderr",
          "output_type": "stream",
          "text": [
            "Federated Training Rounds:  73%|███████▎  | 730/1000 [1:38:08<37:14,  8.28s/it]"
          ]
        },
        {
          "name": "stdout",
          "output_type": "stream",
          "text": [
            "\n",
            "Round 730, Test Accuracy: 53.72%, Test Loss: 1.6863\n"
          ]
        },
        {
          "name": "stderr",
          "output_type": "stream",
          "text": [
            "Federated Training Rounds:  74%|███████▍  | 740/1000 [1:39:26<35:10,  8.12s/it]"
          ]
        },
        {
          "name": "stdout",
          "output_type": "stream",
          "text": [
            "\n",
            "Round 740, Test Accuracy: 53.91%, Test Loss: 1.6830\n"
          ]
        },
        {
          "name": "stderr",
          "output_type": "stream",
          "text": [
            "Federated Training Rounds:  75%|███████▌  | 750/1000 [1:40:43<34:22,  8.25s/it]"
          ]
        },
        {
          "name": "stdout",
          "output_type": "stream",
          "text": [
            "\n",
            "Round 750, Test Accuracy: 54.29%, Test Loss: 1.6803\n"
          ]
        },
        {
          "name": "stderr",
          "output_type": "stream",
          "text": [
            "Federated Training Rounds:  76%|███████▌  | 760/1000 [1:42:01<32:58,  8.25s/it]"
          ]
        },
        {
          "name": "stdout",
          "output_type": "stream",
          "text": [
            "\n",
            "Round 760, Test Accuracy: 54.25%, Test Loss: 1.6708\n"
          ]
        },
        {
          "name": "stderr",
          "output_type": "stream",
          "text": [
            "Federated Training Rounds:  77%|███████▋  | 770/1000 [1:43:19<31:13,  8.15s/it]"
          ]
        },
        {
          "name": "stdout",
          "output_type": "stream",
          "text": [
            "\n",
            "Round 770, Test Accuracy: 54.03%, Test Loss: 1.6763\n"
          ]
        },
        {
          "name": "stderr",
          "output_type": "stream",
          "text": [
            "Federated Training Rounds:  78%|███████▊  | 780/1000 [1:44:37<30:32,  8.33s/it]"
          ]
        },
        {
          "name": "stdout",
          "output_type": "stream",
          "text": [
            "\n",
            "Round 780, Test Accuracy: 53.81%, Test Loss: 1.6942\n"
          ]
        },
        {
          "name": "stderr",
          "output_type": "stream",
          "text": [
            "Federated Training Rounds:  79%|███████▉  | 790/1000 [1:45:54<28:54,  8.26s/it]"
          ]
        },
        {
          "name": "stdout",
          "output_type": "stream",
          "text": [
            "\n",
            "Round 790, Test Accuracy: 54.22%, Test Loss: 1.6740\n"
          ]
        },
        {
          "name": "stderr",
          "output_type": "stream",
          "text": [
            "Federated Training Rounds:  80%|████████  | 800/1000 [1:47:12<27:13,  8.17s/it]"
          ]
        },
        {
          "name": "stdout",
          "output_type": "stream",
          "text": [
            "\n",
            "Round 800, Test Accuracy: 54.84%, Test Loss: 1.6640\n"
          ]
        },
        {
          "name": "stderr",
          "output_type": "stream",
          "text": [
            "Federated Training Rounds:  81%|████████  | 810/1000 [1:48:30<26:05,  8.24s/it]"
          ]
        },
        {
          "name": "stdout",
          "output_type": "stream",
          "text": [
            "\n",
            "Round 810, Test Accuracy: 54.52%, Test Loss: 1.6590\n"
          ]
        },
        {
          "name": "stderr",
          "output_type": "stream",
          "text": [
            "Federated Training Rounds:  82%|████████▏ | 820/1000 [1:49:47<24:36,  8.20s/it]"
          ]
        },
        {
          "name": "stdout",
          "output_type": "stream",
          "text": [
            "\n",
            "Round 820, Test Accuracy: 54.07%, Test Loss: 1.6720\n"
          ]
        },
        {
          "name": "stderr",
          "output_type": "stream",
          "text": [
            "Federated Training Rounds:  83%|████████▎ | 830/1000 [1:51:04<23:10,  8.18s/it]"
          ]
        },
        {
          "name": "stdout",
          "output_type": "stream",
          "text": [
            "\n",
            "Round 830, Test Accuracy: 54.65%, Test Loss: 1.6554\n"
          ]
        },
        {
          "name": "stderr",
          "output_type": "stream",
          "text": [
            "Federated Training Rounds:  84%|████████▍ | 840/1000 [1:52:23<22:14,  8.34s/it]"
          ]
        },
        {
          "name": "stdout",
          "output_type": "stream",
          "text": [
            "\n",
            "Round 840, Test Accuracy: 55.10%, Test Loss: 1.6464\n"
          ]
        },
        {
          "name": "stderr",
          "output_type": "stream",
          "text": [
            "Federated Training Rounds:  85%|████████▌ | 850/1000 [1:53:41<20:34,  8.23s/it]"
          ]
        },
        {
          "name": "stdout",
          "output_type": "stream",
          "text": [
            "\n",
            "Round 850, Test Accuracy: 54.54%, Test Loss: 1.6561\n"
          ]
        },
        {
          "name": "stderr",
          "output_type": "stream",
          "text": [
            "Federated Training Rounds:  86%|████████▌ | 860/1000 [1:54:58<19:02,  8.16s/it]"
          ]
        },
        {
          "name": "stdout",
          "output_type": "stream",
          "text": [
            "\n",
            "Round 860, Test Accuracy: 54.89%, Test Loss: 1.6485\n"
          ]
        },
        {
          "name": "stderr",
          "output_type": "stream",
          "text": [
            "Federated Training Rounds:  87%|████████▋ | 870/1000 [1:56:17<18:01,  8.32s/it]"
          ]
        },
        {
          "name": "stdout",
          "output_type": "stream",
          "text": [
            "\n",
            "Round 870, Test Accuracy: 54.68%, Test Loss: 1.6524\n"
          ]
        },
        {
          "name": "stderr",
          "output_type": "stream",
          "text": [
            "Federated Training Rounds:  88%|████████▊ | 880/1000 [1:57:35<16:36,  8.31s/it]"
          ]
        },
        {
          "name": "stdout",
          "output_type": "stream",
          "text": [
            "\n",
            "Round 880, Test Accuracy: 55.08%, Test Loss: 1.6430\n"
          ]
        },
        {
          "name": "stderr",
          "output_type": "stream",
          "text": [
            "Federated Training Rounds:  89%|████████▉ | 890/1000 [1:58:53<15:12,  8.30s/it]"
          ]
        },
        {
          "name": "stdout",
          "output_type": "stream",
          "text": [
            "\n",
            "Round 890, Test Accuracy: 55.27%, Test Loss: 1.6402\n"
          ]
        },
        {
          "name": "stderr",
          "output_type": "stream",
          "text": [
            "Federated Training Rounds:  90%|█████████ | 900/1000 [2:00:12<13:58,  8.38s/it]"
          ]
        },
        {
          "name": "stdout",
          "output_type": "stream",
          "text": [
            "\n",
            "Round 900, Test Accuracy: 54.99%, Test Loss: 1.6463\n"
          ]
        },
        {
          "name": "stderr",
          "output_type": "stream",
          "text": [
            "Federated Training Rounds:  91%|█████████ | 910/1000 [2:01:29<12:17,  8.19s/it]"
          ]
        },
        {
          "name": "stdout",
          "output_type": "stream",
          "text": [
            "\n",
            "Round 910, Test Accuracy: 55.04%, Test Loss: 1.6440\n"
          ]
        },
        {
          "name": "stderr",
          "output_type": "stream",
          "text": [
            "Federated Training Rounds:  92%|█████████▏| 920/1000 [2:02:48<11:19,  8.49s/it]"
          ]
        },
        {
          "name": "stdout",
          "output_type": "stream",
          "text": [
            "\n",
            "Round 920, Test Accuracy: 55.16%, Test Loss: 1.6432\n"
          ]
        },
        {
          "name": "stderr",
          "output_type": "stream",
          "text": [
            "Federated Training Rounds:  93%|█████████▎| 930/1000 [2:04:05<09:32,  8.18s/it]"
          ]
        },
        {
          "name": "stdout",
          "output_type": "stream",
          "text": [
            "\n",
            "Round 930, Test Accuracy: 55.32%, Test Loss: 1.6296\n"
          ]
        },
        {
          "name": "stderr",
          "output_type": "stream",
          "text": [
            "Federated Training Rounds:  94%|█████████▍| 940/1000 [2:05:22<08:08,  8.14s/it]"
          ]
        },
        {
          "name": "stdout",
          "output_type": "stream",
          "text": [
            "\n",
            "Round 940, Test Accuracy: 55.54%, Test Loss: 1.6369\n"
          ]
        },
        {
          "name": "stderr",
          "output_type": "stream",
          "text": [
            "Federated Training Rounds:  95%|█████████▌| 950/1000 [2:06:39<06:46,  8.14s/it]"
          ]
        },
        {
          "name": "stdout",
          "output_type": "stream",
          "text": [
            "\n",
            "Round 950, Test Accuracy: 55.09%, Test Loss: 1.6321\n"
          ]
        },
        {
          "name": "stderr",
          "output_type": "stream",
          "text": [
            "Federated Training Rounds:  96%|█████████▌| 960/1000 [2:07:57<05:28,  8.21s/it]"
          ]
        },
        {
          "name": "stdout",
          "output_type": "stream",
          "text": [
            "\n",
            "Round 960, Test Accuracy: 55.03%, Test Loss: 1.6345\n"
          ]
        },
        {
          "name": "stderr",
          "output_type": "stream",
          "text": [
            "Federated Training Rounds:  97%|█████████▋| 970/1000 [2:09:13<04:05,  8.17s/it]"
          ]
        },
        {
          "name": "stdout",
          "output_type": "stream",
          "text": [
            "\n",
            "Round 970, Test Accuracy: 55.09%, Test Loss: 1.6307\n"
          ]
        },
        {
          "name": "stderr",
          "output_type": "stream",
          "text": [
            "Federated Training Rounds:  98%|█████████▊| 980/1000 [2:10:30<02:41,  8.08s/it]"
          ]
        },
        {
          "name": "stdout",
          "output_type": "stream",
          "text": [
            "\n",
            "Round 980, Test Accuracy: 55.38%, Test Loss: 1.6264\n"
          ]
        },
        {
          "name": "stderr",
          "output_type": "stream",
          "text": [
            "Federated Training Rounds:  99%|█████████▉| 990/1000 [2:11:48<01:23,  8.35s/it]"
          ]
        },
        {
          "name": "stdout",
          "output_type": "stream",
          "text": [
            "\n",
            "Round 990, Test Accuracy: 55.36%, Test Loss: 1.6306\n"
          ]
        },
        {
          "name": "stderr",
          "output_type": "stream",
          "text": [
            "Federated Training Rounds: 100%|██████████| 1000/1000 [2:13:05<00:00,  7.99s/it]"
          ]
        },
        {
          "name": "stdout",
          "output_type": "stream",
          "text": [
            "\n",
            "Round 1000, Test Accuracy: 55.74%, Test Loss: 1.6307\n"
          ]
        },
        {
          "name": "stderr",
          "output_type": "stream",
          "text": [
            "\n"
          ]
        }
      ],
      "source": [
        "\n",
        "# =====================\n",
        "# Running Federated Learning\n",
        "# =====================\n",
        "\n",
        "if __name__ == \"__main__\":\n",
        "    # Set random seeds for reproducibility\n",
        "    random.seed(42)\n",
        "    torch.manual_seed(42)\n",
        "    if torch.cuda.is_available():\n",
        "        torch.cuda.manual_seed(42)\n",
        "\n",
        "    # Create configuration dictionary\n",
        "    config = {\n",
        "        'num_clients': K,\n",
        "        'client_fraction': C,\n",
        "        'rounds': N,\n",
        "        'local_epochs': J,\n",
        "        'lr': lr,\n",
        "        'batch_size': B,\n",
        "        'test_freq': test_freq\n",
        "    }\n",
        "\n",
        "    # Initialize the global model\n",
        "    global_model = EnhancedLeNet()\n",
        "\n",
        "    # Instantiate FedAvg\n",
        "    fedavg = FedAvg(config, global_model, client_datasets, test_loader)\n",
        "\n",
        "    # Run federated learning\n",
        "    print(\"Starting Federated Learning training...\")\n",
        "    test_accuracies, test_losses, rounds_list = fedavg.run()\n",
        "\n",
        "    # Save results with timestamp\n",
        "    timestamp = datetime.now().strftime(\"%Y%m%d_%H%M%S\")"
      ]
    },
    {
      "cell_type": "code",
      "execution_count": 8,
      "metadata": {
        "colab": {
          "base_uri": "https://localhost:8080/"
        },
        "id": "ha-XvjeDTMBG",
        "outputId": "f87d28c4-f8c3-4d46-b3a5-c2980fff736c"
      },
      "outputs": [
        {
          "name": "stdout",
          "output_type": "stream",
          "text": [
            "\n",
            "Training completed. Results saved as PDF files.\n"
          ]
        }
      ],
      "source": [
        "\n",
        "\n",
        "    # Plot and save test accuracy\n",
        "    plt.figure(figsize=(10, 5))\n",
        "    plt.plot(rounds_list, test_accuracies, marker='o')\n",
        "    plt.xlabel('Rounds')\n",
        "    plt.ylabel('Test Accuracy (%)')\n",
        "    plt.title('Federated Learning Test Accuracy over Rounds')\n",
        "    plt.grid(True)\n",
        "    plt.savefig(f'fed_accuracy_{timestamp}.pdf')\n",
        "    plt.close()\n",
        "\n",
        "    # Plot and save test loss\n",
        "    plt.figure(figsize=(10, 5))\n",
        "    plt.plot(rounds_list, test_losses, marker='o', color='orange')\n",
        "    plt.xlabel('Rounds')\n",
        "    plt.ylabel('Test Loss')\n",
        "    plt.title('Federated Learning Test Loss over Rounds')\n",
        "    plt.grid(True)\n",
        "    plt.savefig(f'fed_loss_{timestamp}.pdf')\n",
        "    plt.close()\n",
        "\n",
        "    print(\"\\nTraining completed. Results saved as PDF files.\")"
      ]
    }
  ],
  "metadata": {
    "accelerator": "GPU",
    "colab": {
      "gpuType": "T4",
      "provenance": []
    },
    "kernelspec": {
      "display_name": "Python 3",
      "name": "python3"
    },
    "language_info": {
      "name": "python"
    }
  },
  "nbformat": 4,
  "nbformat_minor": 0
}
