{
 "cells": [
  {
   "cell_type": "code",
   "execution_count": 2,
   "id": "65d84725-2278-4c72-80f5-84101540262b",
   "metadata": {},
   "outputs": [
    {
     "name": "stdout",
     "output_type": "stream",
     "text": [
      "Loading data...\n",
      "Vocabulary size: 78\n",
      "Creating datasets...\n",
      "Sharding data...\n",
      "Initializing model...\n",
      "\n",
      "Starting Federated Learning...\n"
     ]
    },
    {
     "name": "stderr",
     "output_type": "stream",
     "text": [
      "  1%|          | 1/100 [03:56<6:29:52, 236.28s/it]"
     ]
    },
    {
     "name": "stdout",
     "output_type": "stream",
     "text": [
      "Round 1: Accuracy 18.95%, Loss: 3.1240\n"
     ]
    },
    {
     "name": "stderr",
     "output_type": "stream",
     "text": [
      "  2%|▏         | 2/100 [08:14<6:47:25, 249.44s/it]"
     ]
    },
    {
     "name": "stdout",
     "output_type": "stream",
     "text": [
      "Round 2: Accuracy 21.80%, Loss: 2.9990\n"
     ]
    },
    {
     "name": "stderr",
     "output_type": "stream",
     "text": [
      "  3%|▎         | 3/100 [12:48<7:01:07, 260.49s/it]"
     ]
    },
    {
     "name": "stdout",
     "output_type": "stream",
     "text": [
      "Round 3: Accuracy 24.51%, Loss: 2.8814\n"
     ]
    },
    {
     "name": "stderr",
     "output_type": "stream",
     "text": [
      "  4%|▍         | 4/100 [17:13<6:59:33, 262.22s/it]"
     ]
    },
    {
     "name": "stdout",
     "output_type": "stream",
     "text": [
      "Round 4: Accuracy 28.66%, Loss: 2.7040\n"
     ]
    },
    {
     "name": "stderr",
     "output_type": "stream",
     "text": [
      "  5%|▌         | 5/100 [21:49<7:03:02, 267.19s/it]"
     ]
    },
    {
     "name": "stdout",
     "output_type": "stream",
     "text": [
      "Round 5: Accuracy 30.80%, Loss: 2.5622\n"
     ]
    },
    {
     "name": "stderr",
     "output_type": "stream",
     "text": [
      "  6%|▌         | 6/100 [26:23<7:02:30, 269.69s/it]"
     ]
    },
    {
     "name": "stdout",
     "output_type": "stream",
     "text": [
      "Round 6: Accuracy 32.34%, Loss: 2.4719\n"
     ]
    },
    {
     "name": "stderr",
     "output_type": "stream",
     "text": [
      "  7%|▋         | 7/100 [31:03<7:03:13, 273.05s/it]"
     ]
    },
    {
     "name": "stdout",
     "output_type": "stream",
     "text": [
      "Round 7: Accuracy 33.64%, Loss: 2.4042\n"
     ]
    },
    {
     "name": "stderr",
     "output_type": "stream",
     "text": [
      "  8%|▊         | 8/100 [35:35<6:58:04, 272.66s/it]"
     ]
    },
    {
     "name": "stdout",
     "output_type": "stream",
     "text": [
      "Round 8: Accuracy 34.93%, Loss: 2.3505\n"
     ]
    },
    {
     "name": "stderr",
     "output_type": "stream",
     "text": [
      "  9%|▉         | 9/100 [40:12<6:55:28, 273.94s/it]"
     ]
    },
    {
     "name": "stdout",
     "output_type": "stream",
     "text": [
      "Round 9: Accuracy 36.11%, Loss: 2.3038\n"
     ]
    },
    {
     "name": "stderr",
     "output_type": "stream",
     "text": [
      " 10%|█         | 10/100 [44:56<6:55:23, 276.92s/it]"
     ]
    },
    {
     "name": "stdout",
     "output_type": "stream",
     "text": [
      "Round 10: Accuracy 37.66%, Loss: 2.2603\n"
     ]
    },
    {
     "name": "stderr",
     "output_type": "stream",
     "text": [
      " 11%|█         | 11/100 [49:32<6:50:35, 276.81s/it]"
     ]
    },
    {
     "name": "stdout",
     "output_type": "stream",
     "text": [
      "Round 11: Accuracy 38.93%, Loss: 2.2203\n"
     ]
    },
    {
     "name": "stderr",
     "output_type": "stream",
     "text": [
      " 12%|█▏        | 12/100 [54:03<6:43:26, 275.08s/it]"
     ]
    },
    {
     "name": "stdout",
     "output_type": "stream",
     "text": [
      "Round 12: Accuracy 39.65%, Loss: 2.1847\n"
     ]
    },
    {
     "name": "stderr",
     "output_type": "stream",
     "text": [
      " 13%|█▎        | 13/100 [58:36<6:37:58, 274.46s/it]"
     ]
    },
    {
     "name": "stdout",
     "output_type": "stream",
     "text": [
      "Round 13: Accuracy 40.35%, Loss: 2.1511\n"
     ]
    },
    {
     "name": "stderr",
     "output_type": "stream",
     "text": [
      " 14%|█▍        | 14/100 [1:03:15<6:35:07, 275.67s/it]"
     ]
    },
    {
     "name": "stdout",
     "output_type": "stream",
     "text": [
      "Round 14: Accuracy 40.89%, Loss: 2.1198\n"
     ]
    },
    {
     "name": "stderr",
     "output_type": "stream",
     "text": [
      " 15%|█▌        | 15/100 [1:07:54<6:32:00, 276.72s/it]"
     ]
    },
    {
     "name": "stdout",
     "output_type": "stream",
     "text": [
      "Round 15: Accuracy 41.30%, Loss: 2.0907\n"
     ]
    },
    {
     "name": "stderr",
     "output_type": "stream",
     "text": [
      " 16%|█▌        | 16/100 [1:12:29<6:26:40, 276.20s/it]"
     ]
    },
    {
     "name": "stdout",
     "output_type": "stream",
     "text": [
      "Round 16: Accuracy 42.02%, Loss: 2.0639\n"
     ]
    },
    {
     "name": "stderr",
     "output_type": "stream",
     "text": [
      " 17%|█▋        | 17/100 [1:17:10<6:24:07, 277.69s/it]"
     ]
    },
    {
     "name": "stdout",
     "output_type": "stream",
     "text": [
      "Round 17: Accuracy 42.47%, Loss: 2.0389\n"
     ]
    },
    {
     "name": "stderr",
     "output_type": "stream",
     "text": [
      " 18%|█▊        | 18/100 [1:21:39<6:15:57, 275.10s/it]"
     ]
    },
    {
     "name": "stdout",
     "output_type": "stream",
     "text": [
      "Round 18: Accuracy 43.01%, Loss: 2.0166\n"
     ]
    },
    {
     "name": "stderr",
     "output_type": "stream",
     "text": [
      " 19%|█▉        | 19/100 [1:26:04<6:07:08, 271.96s/it]"
     ]
    },
    {
     "name": "stdout",
     "output_type": "stream",
     "text": [
      "Round 19: Accuracy 43.50%, Loss: 1.9953\n"
     ]
    },
    {
     "name": "stderr",
     "output_type": "stream",
     "text": [
      " 20%|██        | 20/100 [1:30:23<5:57:26, 268.08s/it]"
     ]
    },
    {
     "name": "stdout",
     "output_type": "stream",
     "text": [
      "Round 20: Accuracy 43.85%, Loss: 1.9752\n"
     ]
    },
    {
     "name": "stderr",
     "output_type": "stream",
     "text": [
      " 21%|██        | 21/100 [1:34:48<5:51:50, 267.22s/it]"
     ]
    },
    {
     "name": "stdout",
     "output_type": "stream",
     "text": [
      "Round 21: Accuracy 44.18%, Loss: 1.9574\n"
     ]
    },
    {
     "name": "stderr",
     "output_type": "stream",
     "text": [
      " 22%|██▏       | 22/100 [1:39:21<5:49:40, 268.98s/it]"
     ]
    },
    {
     "name": "stdout",
     "output_type": "stream",
     "text": [
      "Round 22: Accuracy 44.63%, Loss: 1.9395\n"
     ]
    },
    {
     "name": "stderr",
     "output_type": "stream",
     "text": [
      " 23%|██▎       | 23/100 [1:43:50<5:45:07, 268.93s/it]"
     ]
    },
    {
     "name": "stdout",
     "output_type": "stream",
     "text": [
      "Round 23: Accuracy 44.87%, Loss: 1.9239\n"
     ]
    },
    {
     "name": "stderr",
     "output_type": "stream",
     "text": [
      " 24%|██▍       | 24/100 [1:48:22<5:41:52, 269.90s/it]"
     ]
    },
    {
     "name": "stdout",
     "output_type": "stream",
     "text": [
      "Round 24: Accuracy 45.23%, Loss: 1.9087\n"
     ]
    },
    {
     "name": "stderr",
     "output_type": "stream",
     "text": [
      " 25%|██▌       | 25/100 [1:52:46<5:35:02, 268.04s/it]"
     ]
    },
    {
     "name": "stdout",
     "output_type": "stream",
     "text": [
      "Round 25: Accuracy 45.62%, Loss: 1.8932\n"
     ]
    },
    {
     "name": "stderr",
     "output_type": "stream",
     "text": [
      " 26%|██▌       | 26/100 [1:57:14<5:30:41, 268.12s/it]"
     ]
    },
    {
     "name": "stdout",
     "output_type": "stream",
     "text": [
      "Round 26: Accuracy 45.94%, Loss: 1.8801\n"
     ]
    },
    {
     "name": "stderr",
     "output_type": "stream",
     "text": [
      " 27%|██▋       | 27/100 [2:01:34<5:23:12, 265.65s/it]"
     ]
    },
    {
     "name": "stdout",
     "output_type": "stream",
     "text": [
      "Round 27: Accuracy 46.26%, Loss: 1.8659\n"
     ]
    },
    {
     "name": "stderr",
     "output_type": "stream",
     "text": [
      " 28%|██▊       | 28/100 [2:06:09<5:22:15, 268.55s/it]"
     ]
    },
    {
     "name": "stdout",
     "output_type": "stream",
     "text": [
      "Round 28: Accuracy 46.56%, Loss: 1.8528\n"
     ]
    },
    {
     "name": "stderr",
     "output_type": "stream",
     "text": [
      " 29%|██▉       | 29/100 [2:10:38<5:17:58, 268.71s/it]"
     ]
    },
    {
     "name": "stdout",
     "output_type": "stream",
     "text": [
      "Round 29: Accuracy 46.91%, Loss: 1.8413\n"
     ]
    },
    {
     "name": "stderr",
     "output_type": "stream",
     "text": [
      " 30%|███       | 30/100 [2:15:02<5:11:43, 267.20s/it]"
     ]
    },
    {
     "name": "stdout",
     "output_type": "stream",
     "text": [
      "Round 30: Accuracy 47.19%, Loss: 1.8300\n"
     ]
    },
    {
     "name": "stderr",
     "output_type": "stream",
     "text": [
      " 31%|███       | 31/100 [2:19:24<5:05:24, 265.57s/it]"
     ]
    },
    {
     "name": "stdout",
     "output_type": "stream",
     "text": [
      "Round 31: Accuracy 47.56%, Loss: 1.8184\n"
     ]
    },
    {
     "name": "stderr",
     "output_type": "stream",
     "text": [
      " 32%|███▏      | 32/100 [2:24:00<5:04:42, 268.85s/it]"
     ]
    },
    {
     "name": "stdout",
     "output_type": "stream",
     "text": [
      "Round 32: Accuracy 47.81%, Loss: 1.8073\n"
     ]
    },
    {
     "name": "stderr",
     "output_type": "stream",
     "text": [
      " 33%|███▎      | 33/100 [2:28:19<4:56:46, 265.77s/it]"
     ]
    },
    {
     "name": "stdout",
     "output_type": "stream",
     "text": [
      "Round 33: Accuracy 48.05%, Loss: 1.7964\n"
     ]
    },
    {
     "name": "stderr",
     "output_type": "stream",
     "text": [
      " 34%|███▍      | 34/100 [2:32:49<4:53:54, 267.20s/it]"
     ]
    },
    {
     "name": "stdout",
     "output_type": "stream",
     "text": [
      "Round 34: Accuracy 48.25%, Loss: 1.7867\n"
     ]
    },
    {
     "name": "stderr",
     "output_type": "stream",
     "text": [
      " 35%|███▌      | 35/100 [2:37:18<4:50:02, 267.74s/it]"
     ]
    },
    {
     "name": "stdout",
     "output_type": "stream",
     "text": [
      "Round 35: Accuracy 48.47%, Loss: 1.7770\n"
     ]
    },
    {
     "name": "stderr",
     "output_type": "stream",
     "text": [
      " 36%|███▌      | 36/100 [2:41:54<4:48:10, 270.16s/it]"
     ]
    },
    {
     "name": "stdout",
     "output_type": "stream",
     "text": [
      "Round 36: Accuracy 48.74%, Loss: 1.7681\n"
     ]
    },
    {
     "name": "stderr",
     "output_type": "stream",
     "text": [
      " 37%|███▋      | 37/100 [2:46:34<4:46:48, 273.15s/it]"
     ]
    },
    {
     "name": "stdout",
     "output_type": "stream",
     "text": [
      "Round 37: Accuracy 48.95%, Loss: 1.7597\n"
     ]
    },
    {
     "name": "stderr",
     "output_type": "stream",
     "text": [
      " 38%|███▊      | 38/100 [2:51:02<4:40:35, 271.55s/it]"
     ]
    },
    {
     "name": "stdout",
     "output_type": "stream",
     "text": [
      "Round 38: Accuracy 49.08%, Loss: 1.7515\n"
     ]
    },
    {
     "name": "stderr",
     "output_type": "stream",
     "text": [
      " 39%|███▉      | 39/100 [2:55:30<4:34:59, 270.48s/it]"
     ]
    },
    {
     "name": "stdout",
     "output_type": "stream",
     "text": [
      "Round 39: Accuracy 49.24%, Loss: 1.7440\n"
     ]
    },
    {
     "name": "stderr",
     "output_type": "stream",
     "text": [
      " 40%|████      | 40/100 [2:59:56<4:29:12, 269.21s/it]"
     ]
    },
    {
     "name": "stdout",
     "output_type": "stream",
     "text": [
      "Round 40: Accuracy 49.44%, Loss: 1.7358\n"
     ]
    },
    {
     "name": "stderr",
     "output_type": "stream",
     "text": [
      " 41%|████      | 41/100 [3:04:30<4:25:56, 270.45s/it]"
     ]
    },
    {
     "name": "stdout",
     "output_type": "stream",
     "text": [
      "Round 41: Accuracy 49.62%, Loss: 1.7283\n"
     ]
    },
    {
     "name": "stderr",
     "output_type": "stream",
     "text": [
      " 42%|████▏     | 42/100 [3:08:58<4:20:54, 269.91s/it]"
     ]
    },
    {
     "name": "stdout",
     "output_type": "stream",
     "text": [
      "Round 42: Accuracy 49.80%, Loss: 1.7204\n"
     ]
    },
    {
     "name": "stderr",
     "output_type": "stream",
     "text": [
      " 43%|████▎     | 43/100 [3:13:22<4:14:35, 267.99s/it]"
     ]
    },
    {
     "name": "stdout",
     "output_type": "stream",
     "text": [
      "Round 43: Accuracy 49.93%, Loss: 1.7130\n"
     ]
    },
    {
     "name": "stderr",
     "output_type": "stream",
     "text": [
      " 44%|████▍     | 44/100 [3:17:44<4:08:23, 266.14s/it]"
     ]
    },
    {
     "name": "stdout",
     "output_type": "stream",
     "text": [
      "Round 44: Accuracy 50.10%, Loss: 1.7069\n"
     ]
    },
    {
     "name": "stderr",
     "output_type": "stream",
     "text": [
      " 45%|████▌     | 45/100 [3:22:06<4:02:53, 264.97s/it]"
     ]
    },
    {
     "name": "stdout",
     "output_type": "stream",
     "text": [
      "Round 45: Accuracy 50.31%, Loss: 1.6993\n"
     ]
    },
    {
     "name": "stderr",
     "output_type": "stream",
     "text": [
      " 46%|████▌     | 46/100 [3:26:21<3:55:44, 261.93s/it]"
     ]
    },
    {
     "name": "stdout",
     "output_type": "stream",
     "text": [
      "Round 46: Accuracy 50.48%, Loss: 1.6939\n"
     ]
    },
    {
     "name": "stderr",
     "output_type": "stream",
     "text": [
      " 47%|████▋     | 47/100 [3:30:45<3:51:49, 262.45s/it]"
     ]
    },
    {
     "name": "stdout",
     "output_type": "stream",
     "text": [
      "Round 47: Accuracy 50.55%, Loss: 1.6881\n"
     ]
    },
    {
     "name": "stderr",
     "output_type": "stream",
     "text": [
      " 48%|████▊     | 48/100 [3:35:07<3:47:28, 262.48s/it]"
     ]
    },
    {
     "name": "stdout",
     "output_type": "stream",
     "text": [
      "Round 48: Accuracy 50.75%, Loss: 1.6816\n"
     ]
    },
    {
     "name": "stderr",
     "output_type": "stream",
     "text": [
      " 49%|████▉     | 49/100 [3:39:34<3:44:14, 263.81s/it]"
     ]
    },
    {
     "name": "stdout",
     "output_type": "stream",
     "text": [
      "Round 49: Accuracy 50.89%, Loss: 1.6762\n"
     ]
    },
    {
     "name": "stderr",
     "output_type": "stream",
     "text": [
      " 50%|█████     | 50/100 [3:43:58<3:39:47, 263.75s/it]"
     ]
    },
    {
     "name": "stdout",
     "output_type": "stream",
     "text": [
      "Round 50: Accuracy 51.05%, Loss: 1.6703\n"
     ]
    },
    {
     "name": "stderr",
     "output_type": "stream",
     "text": [
      " 51%|█████     | 51/100 [3:48:27<3:36:52, 265.57s/it]"
     ]
    },
    {
     "name": "stdout",
     "output_type": "stream",
     "text": [
      "Round 51: Accuracy 51.21%, Loss: 1.6647\n"
     ]
    },
    {
     "name": "stderr",
     "output_type": "stream",
     "text": [
      " 52%|█████▏    | 52/100 [3:52:55<3:32:54, 266.13s/it]"
     ]
    },
    {
     "name": "stdout",
     "output_type": "stream",
     "text": [
      "Round 52: Accuracy 51.33%, Loss: 1.6588\n"
     ]
    },
    {
     "name": "stderr",
     "output_type": "stream",
     "text": [
      " 53%|█████▎    | 53/100 [3:57:23<3:28:51, 266.63s/it]"
     ]
    },
    {
     "name": "stdout",
     "output_type": "stream",
     "text": [
      "Round 53: Accuracy 51.45%, Loss: 1.6540\n"
     ]
    },
    {
     "name": "stderr",
     "output_type": "stream",
     "text": [
      " 54%|█████▍    | 54/100 [4:01:51<3:24:47, 267.12s/it]"
     ]
    },
    {
     "name": "stdout",
     "output_type": "stream",
     "text": [
      "Round 54: Accuracy 51.57%, Loss: 1.6486\n"
     ]
    },
    {
     "name": "stderr",
     "output_type": "stream",
     "text": [
      " 55%|█████▌    | 55/100 [4:06:20<3:20:45, 267.68s/it]"
     ]
    },
    {
     "name": "stdout",
     "output_type": "stream",
     "text": [
      "Round 55: Accuracy 51.66%, Loss: 1.6439\n"
     ]
    },
    {
     "name": "stderr",
     "output_type": "stream",
     "text": [
      " 56%|█████▌    | 56/100 [4:10:47<3:16:14, 267.60s/it]"
     ]
    },
    {
     "name": "stdout",
     "output_type": "stream",
     "text": [
      "Round 56: Accuracy 51.76%, Loss: 1.6391\n"
     ]
    },
    {
     "name": "stderr",
     "output_type": "stream",
     "text": [
      " 57%|█████▋    | 57/100 [4:15:14<3:11:37, 267.38s/it]"
     ]
    },
    {
     "name": "stdout",
     "output_type": "stream",
     "text": [
      "Round 57: Accuracy 51.90%, Loss: 1.6336\n"
     ]
    },
    {
     "name": "stderr",
     "output_type": "stream",
     "text": [
      " 58%|█████▊    | 58/100 [4:19:43<3:07:31, 267.90s/it]"
     ]
    },
    {
     "name": "stdout",
     "output_type": "stream",
     "text": [
      "Round 58: Accuracy 52.04%, Loss: 1.6294\n"
     ]
    },
    {
     "name": "stderr",
     "output_type": "stream",
     "text": [
      " 59%|█████▉    | 59/100 [4:24:03<3:01:27, 265.55s/it]"
     ]
    },
    {
     "name": "stdout",
     "output_type": "stream",
     "text": [
      "Round 59: Accuracy 52.06%, Loss: 1.6263\n"
     ]
    },
    {
     "name": "stderr",
     "output_type": "stream",
     "text": [
      " 60%|██████    | 60/100 [4:28:29<2:57:08, 265.71s/it]"
     ]
    },
    {
     "name": "stdout",
     "output_type": "stream",
     "text": [
      "Round 60: Accuracy 52.22%, Loss: 1.6207\n"
     ]
    },
    {
     "name": "stderr",
     "output_type": "stream",
     "text": [
      " 61%|██████    | 61/100 [4:32:56<2:52:54, 266.02s/it]"
     ]
    },
    {
     "name": "stdout",
     "output_type": "stream",
     "text": [
      "Round 61: Accuracy 52.30%, Loss: 1.6171\n"
     ]
    },
    {
     "name": "stderr",
     "output_type": "stream",
     "text": [
      " 62%|██████▏   | 62/100 [4:37:18<2:47:43, 264.84s/it]"
     ]
    },
    {
     "name": "stdout",
     "output_type": "stream",
     "text": [
      "Round 62: Accuracy 52.36%, Loss: 1.6119\n"
     ]
    },
    {
     "name": "stderr",
     "output_type": "stream",
     "text": [
      " 63%|██████▎   | 63/100 [4:41:40<2:42:49, 264.05s/it]"
     ]
    },
    {
     "name": "stdout",
     "output_type": "stream",
     "text": [
      "Round 63: Accuracy 52.51%, Loss: 1.6083\n"
     ]
    },
    {
     "name": "stderr",
     "output_type": "stream",
     "text": [
      " 64%|██████▍   | 64/100 [4:46:09<2:39:11, 265.33s/it]"
     ]
    },
    {
     "name": "stdout",
     "output_type": "stream",
     "text": [
      "Round 64: Accuracy 52.52%, Loss: 1.6043\n"
     ]
    },
    {
     "name": "stderr",
     "output_type": "stream",
     "text": [
      " 65%|██████▌   | 65/100 [4:50:28<2:33:40, 263.43s/it]"
     ]
    },
    {
     "name": "stdout",
     "output_type": "stream",
     "text": [
      "Round 65: Accuracy 52.71%, Loss: 1.6013\n"
     ]
    },
    {
     "name": "stderr",
     "output_type": "stream",
     "text": [
      " 66%|██████▌   | 66/100 [4:55:00<2:30:42, 265.97s/it]"
     ]
    },
    {
     "name": "stdout",
     "output_type": "stream",
     "text": [
      "Round 66: Accuracy 52.75%, Loss: 1.5970\n"
     ]
    },
    {
     "name": "stderr",
     "output_type": "stream",
     "text": [
      " 67%|██████▋   | 67/100 [4:59:28<2:26:38, 266.63s/it]"
     ]
    },
    {
     "name": "stdout",
     "output_type": "stream",
     "text": [
      "Round 67: Accuracy 52.81%, Loss: 1.5939\n"
     ]
    },
    {
     "name": "stderr",
     "output_type": "stream",
     "text": [
      " 68%|██████▊   | 68/100 [5:03:55<2:22:15, 266.72s/it]"
     ]
    },
    {
     "name": "stdout",
     "output_type": "stream",
     "text": [
      "Round 68: Accuracy 52.95%, Loss: 1.5896\n"
     ]
    },
    {
     "name": "stderr",
     "output_type": "stream",
     "text": [
      " 69%|██████▉   | 69/100 [5:08:29<2:18:55, 268.88s/it]"
     ]
    },
    {
     "name": "stdout",
     "output_type": "stream",
     "text": [
      "Round 69: Accuracy 53.02%, Loss: 1.5860\n"
     ]
    },
    {
     "name": "stderr",
     "output_type": "stream",
     "text": [
      " 70%|███████   | 70/100 [5:13:00<2:14:51, 269.73s/it]"
     ]
    },
    {
     "name": "stdout",
     "output_type": "stream",
     "text": [
      "Round 70: Accuracy 53.04%, Loss: 1.5822\n"
     ]
    },
    {
     "name": "stderr",
     "output_type": "stream",
     "text": [
      " 71%|███████   | 71/100 [5:17:27<2:09:53, 268.72s/it]"
     ]
    },
    {
     "name": "stdout",
     "output_type": "stream",
     "text": [
      "Round 71: Accuracy 53.16%, Loss: 1.5794\n"
     ]
    },
    {
     "name": "stderr",
     "output_type": "stream",
     "text": [
      " 72%|███████▏  | 72/100 [5:22:08<2:07:05, 272.33s/it]"
     ]
    },
    {
     "name": "stdout",
     "output_type": "stream",
     "text": [
      "Round 72: Accuracy 53.27%, Loss: 1.5762\n"
     ]
    },
    {
     "name": "stderr",
     "output_type": "stream",
     "text": [
      " 73%|███████▎  | 73/100 [5:26:36<2:01:58, 271.06s/it]"
     ]
    },
    {
     "name": "stdout",
     "output_type": "stream",
     "text": [
      "Round 73: Accuracy 53.29%, Loss: 1.5729\n"
     ]
    },
    {
     "name": "stderr",
     "output_type": "stream",
     "text": [
      " 74%|███████▍  | 74/100 [5:31:07<1:57:31, 271.22s/it]"
     ]
    },
    {
     "name": "stdout",
     "output_type": "stream",
     "text": [
      "Round 74: Accuracy 53.42%, Loss: 1.5698\n"
     ]
    },
    {
     "name": "stderr",
     "output_type": "stream",
     "text": [
      " 75%|███████▌  | 75/100 [5:35:42<1:53:30, 272.40s/it]"
     ]
    },
    {
     "name": "stdout",
     "output_type": "stream",
     "text": [
      "Round 75: Accuracy 53.50%, Loss: 1.5664\n"
     ]
    },
    {
     "name": "stderr",
     "output_type": "stream",
     "text": [
      " 76%|███████▌  | 76/100 [5:40:18<1:49:19, 273.32s/it]"
     ]
    },
    {
     "name": "stdout",
     "output_type": "stream",
     "text": [
      "Round 76: Accuracy 53.60%, Loss: 1.5632\n"
     ]
    },
    {
     "name": "stderr",
     "output_type": "stream",
     "text": [
      " 77%|███████▋  | 77/100 [5:44:44<1:43:59, 271.28s/it]"
     ]
    },
    {
     "name": "stdout",
     "output_type": "stream",
     "text": [
      "Round 77: Accuracy 53.64%, Loss: 1.5607\n"
     ]
    },
    {
     "name": "stderr",
     "output_type": "stream",
     "text": [
      " 78%|███████▊  | 78/100 [5:49:25<1:40:29, 274.05s/it]"
     ]
    },
    {
     "name": "stdout",
     "output_type": "stream",
     "text": [
      "Round 78: Accuracy 53.72%, Loss: 1.5578\n"
     ]
    },
    {
     "name": "stderr",
     "output_type": "stream",
     "text": [
      " 79%|███████▉  | 79/100 [5:54:10<1:37:02, 277.29s/it]"
     ]
    },
    {
     "name": "stdout",
     "output_type": "stream",
     "text": [
      "Round 79: Accuracy 53.73%, Loss: 1.5551\n"
     ]
    },
    {
     "name": "stderr",
     "output_type": "stream",
     "text": [
      " 80%|████████  | 80/100 [5:58:41<1:31:47, 275.36s/it]"
     ]
    },
    {
     "name": "stdout",
     "output_type": "stream",
     "text": [
      "Round 80: Accuracy 53.84%, Loss: 1.5522\n"
     ]
    },
    {
     "name": "stderr",
     "output_type": "stream",
     "text": [
      " 81%|████████  | 81/100 [6:03:06<1:26:16, 272.46s/it]"
     ]
    },
    {
     "name": "stdout",
     "output_type": "stream",
     "text": [
      "Round 81: Accuracy 53.91%, Loss: 1.5501\n"
     ]
    },
    {
     "name": "stderr",
     "output_type": "stream",
     "text": [
      " 82%|████████▏ | 82/100 [6:07:36<1:21:28, 271.57s/it]"
     ]
    },
    {
     "name": "stdout",
     "output_type": "stream",
     "text": [
      "Round 82: Accuracy 53.92%, Loss: 1.5472\n"
     ]
    },
    {
     "name": "stderr",
     "output_type": "stream",
     "text": [
      " 83%|████████▎ | 83/100 [6:12:02<1:16:28, 269.89s/it]"
     ]
    },
    {
     "name": "stdout",
     "output_type": "stream",
     "text": [
      "Round 83: Accuracy 54.03%, Loss: 1.5440\n"
     ]
    },
    {
     "name": "stderr",
     "output_type": "stream",
     "text": [
      " 84%|████████▍ | 84/100 [6:16:27<1:11:33, 268.37s/it]"
     ]
    },
    {
     "name": "stdout",
     "output_type": "stream",
     "text": [
      "Round 84: Accuracy 54.10%, Loss: 1.5414\n"
     ]
    },
    {
     "name": "stderr",
     "output_type": "stream",
     "text": [
      " 85%|████████▌ | 85/100 [6:20:53<1:06:57, 267.86s/it]"
     ]
    },
    {
     "name": "stdout",
     "output_type": "stream",
     "text": [
      "Round 85: Accuracy 54.16%, Loss: 1.5390\n"
     ]
    },
    {
     "name": "stderr",
     "output_type": "stream",
     "text": [
      " 86%|████████▌ | 86/100 [6:25:23<1:02:36, 268.31s/it]"
     ]
    },
    {
     "name": "stdout",
     "output_type": "stream",
     "text": [
      "Round 86: Accuracy 54.17%, Loss: 1.5369\n"
     ]
    },
    {
     "name": "stderr",
     "output_type": "stream",
     "text": [
      " 87%|████████▋ | 87/100 [6:29:58<58:36, 270.52s/it]  "
     ]
    },
    {
     "name": "stdout",
     "output_type": "stream",
     "text": [
      "Round 87: Accuracy 54.30%, Loss: 1.5349\n"
     ]
    },
    {
     "name": "stderr",
     "output_type": "stream",
     "text": [
      " 88%|████████▊ | 88/100 [6:34:36<54:31, 272.61s/it]"
     ]
    },
    {
     "name": "stdout",
     "output_type": "stream",
     "text": [
      "Round 88: Accuracy 54.31%, Loss: 1.5337\n"
     ]
    },
    {
     "name": "stderr",
     "output_type": "stream",
     "text": [
      " 89%|████████▉ | 89/100 [6:39:15<50:21, 274.64s/it]"
     ]
    },
    {
     "name": "stdout",
     "output_type": "stream",
     "text": [
      "Round 89: Accuracy 54.38%, Loss: 1.5311\n"
     ]
    },
    {
     "name": "stderr",
     "output_type": "stream",
     "text": [
      " 90%|█████████ | 90/100 [6:43:47<45:38, 273.88s/it]"
     ]
    },
    {
     "name": "stdout",
     "output_type": "stream",
     "text": [
      "Round 90: Accuracy 54.37%, Loss: 1.5290\n"
     ]
    },
    {
     "name": "stderr",
     "output_type": "stream",
     "text": [
      " 91%|█████████ | 91/100 [6:48:33<41:35, 277.32s/it]"
     ]
    },
    {
     "name": "stdout",
     "output_type": "stream",
     "text": [
      "Round 91: Accuracy 54.56%, Loss: 1.5252\n"
     ]
    },
    {
     "name": "stderr",
     "output_type": "stream",
     "text": [
      " 92%|█████████▏| 92/100 [6:53:01<36:36, 274.52s/it]"
     ]
    },
    {
     "name": "stdout",
     "output_type": "stream",
     "text": [
      "Round 92: Accuracy 54.58%, Loss: 1.5233\n"
     ]
    },
    {
     "name": "stderr",
     "output_type": "stream",
     "text": [
      " 93%|█████████▎| 93/100 [6:57:31<31:52, 273.16s/it]"
     ]
    },
    {
     "name": "stdout",
     "output_type": "stream",
     "text": [
      "Round 93: Accuracy 54.65%, Loss: 1.5207\n"
     ]
    },
    {
     "name": "stderr",
     "output_type": "stream",
     "text": [
      " 94%|█████████▍| 94/100 [7:02:05<27:21, 273.65s/it]"
     ]
    },
    {
     "name": "stdout",
     "output_type": "stream",
     "text": [
      "Round 94: Accuracy 54.68%, Loss: 1.5196\n"
     ]
    },
    {
     "name": "stderr",
     "output_type": "stream",
     "text": [
      " 95%|█████████▌| 95/100 [7:06:31<22:35, 271.16s/it]"
     ]
    },
    {
     "name": "stdout",
     "output_type": "stream",
     "text": [
      "Round 95: Accuracy 54.72%, Loss: 1.5169\n"
     ]
    },
    {
     "name": "stderr",
     "output_type": "stream",
     "text": [
      " 96%|█████████▌| 96/100 [7:11:05<18:08, 272.19s/it]"
     ]
    },
    {
     "name": "stdout",
     "output_type": "stream",
     "text": [
      "Round 96: Accuracy 54.75%, Loss: 1.5153\n"
     ]
    },
    {
     "name": "stderr",
     "output_type": "stream",
     "text": [
      " 97%|█████████▋| 97/100 [7:15:34<13:33, 271.10s/it]"
     ]
    },
    {
     "name": "stdout",
     "output_type": "stream",
     "text": [
      "Round 97: Accuracy 54.79%, Loss: 1.5132\n"
     ]
    },
    {
     "name": "stderr",
     "output_type": "stream",
     "text": [
      " 98%|█████████▊| 98/100 [7:20:10<09:05, 272.76s/it]"
     ]
    },
    {
     "name": "stdout",
     "output_type": "stream",
     "text": [
      "Round 98: Accuracy 54.81%, Loss: 1.5120\n"
     ]
    },
    {
     "name": "stderr",
     "output_type": "stream",
     "text": [
      " 99%|█████████▉| 99/100 [7:24:41<04:32, 272.13s/it]"
     ]
    },
    {
     "name": "stdout",
     "output_type": "stream",
     "text": [
      "Round 99: Accuracy 54.89%, Loss: 1.5092\n"
     ]
    },
    {
     "name": "stderr",
     "output_type": "stream",
     "text": [
      "100%|██████████| 100/100 [7:29:15<00:00, 269.56s/it]"
     ]
    },
    {
     "name": "stdout",
     "output_type": "stream",
     "text": [
      "Round 100: Accuracy 54.97%, Loss: 1.5064\n"
     ]
    },
    {
     "name": "stderr",
     "output_type": "stream",
     "text": [
      "\n"
     ]
    },
    {
     "data": {
      "image/png": "[encoded data removed]",
      "text/plain": [
       "<Figure size 1200x500 with 2 Axes>"
      ]
     },
     "metadata": {},
     "output_type": "display_data"
    },
    {
     "name": "stdout",
     "output_type": "stream",
     "text": [
      "\n",
      "Training complete. Model and results saved.\n"
     ]
    }
   ],
   "source": [
    "import torch\n",
    "import torch.nn as nn\n",
    "import torch.optim as optim\n",
    "from torch.utils.data import Dataset, DataLoader, Subset\n",
    "import pandas as pd\n",
    "import json\n",
    "import random\n",
    "import numpy as np\n",
    "from tqdm import tqdm\n",
    "import copy\n",
    "import matplotlib.pyplot as plt\n",
    "from datetime import datetime\n",
    "\n",
    "# =====================\n",
    "# Parameters\n",
    "# =====================\n",
    "K = 100                   # Total clients\n",
    "C = 0.1                   # Client fraction\n",
    "N = 100                    # Communication rounds\n",
    "J = 4                     # Local epochs\n",
    "lr = 0.01                 # Learning rate\n",
    "B = 64                    # Batch size\n",
    "sequence_length = 80      # Character sequence length\n",
    "embed_dim = 128           # Embedding dimension\n",
    "lstm_units = 256          # LSTM units\n",
    "train_json_path = '/workspace/leaf/data/shakespeare/data/train/all_data_train_9.json'\n",
    "test_json_path = '/workspace/leaf/data/shakespeare/data/test/all_data_test_9.json'\n",
    "\n",
    "device = torch.device(\"cuda\" if torch.cuda.is_available() else \"cpu\")\n",
    "\n",
    "# =====================\n",
    "# Data Loading & Preprocessing\n",
    "# =====================\n",
    "def load_json_data(path):\n",
    "    with open(path, 'r') as f:\n",
    "        data = json.load(f)\n",
    "    records = []\n",
    "    for user, info in data['user_data'].items():\n",
    "        for x, y in zip(info['x'], info['y']):\n",
    "            if len(x) > 0 and len(y) > 0 and y != '':  # Filter invalid entries\n",
    "                records.append({'x': x, 'y': y})\n",
    "    return pd.DataFrame(records).sample(frac=1).reset_index(drop=True)\n",
    "\n",
    "# Load and clean data\n",
    "print(\"Loading data...\")\n",
    "train_df = load_json_data(train_json_path)\n",
    "test_df = load_json_data(test_json_path)\n",
    "\n",
    "# Build vocabulary with UNK token\n",
    "train_chars = set(''.join(train_df['x']) + ''.join(train_df['y']))\n",
    "chars = ['<UNK>'] + sorted(train_chars)  # Index 0 for unknown\n",
    "vocab_size = len(chars)\n",
    "char_to_idx = {c:i for i,c in enumerate(chars)}\n",
    "print(f\"Vocabulary size: {vocab_size}\")\n",
    "\n",
    "# Dataset class\n",
    "class ShakespeareDataset(Dataset):\n",
    "    def __init__(self, df):\n",
    "        self.df = df\n",
    "        \n",
    "    def __len__(self):\n",
    "        return len(self.df)\n",
    "    \n",
    "    def __getitem__(self, idx):\n",
    "        # Process input sequence\n",
    "        x_str = self.df.iloc[idx]['x'][:sequence_length].ljust(sequence_length)\n",
    "        x_indices = [char_to_idx.get(c, 0) for c in x_str]  # UNK handling\n",
    "        \n",
    "        # Process target\n",
    "        y_char = self.df.iloc[idx]['y']\n",
    "        y_index = char_to_idx.get(y_char, 0)\n",
    "        \n",
    "        return torch.tensor(x_indices), torch.tensor(y_index)\n",
    "\n",
    "# Create datasets\n",
    "print(\"Creating datasets...\")\n",
    "train_dataset = ShakespeareDataset(train_df)\n",
    "test_dataset = ShakespeareDataset(test_df)\n",
    "\n",
    "# IID Sharding\n",
    "print(\"Sharding data...\")\n",
    "all_indices = list(range(len(train_dataset)))\n",
    "random.shuffle(all_indices)\n",
    "client_datasets = [Subset(train_dataset, indices) \n",
    "                  for indices in np.array_split(all_indices, K)]\n",
    "\n",
    "# Test loader\n",
    "test_loader = DataLoader(test_dataset, batch_size=B, shuffle=True)\n",
    "\n",
    "# =====================\n",
    "# Model\n",
    "# =====================\n",
    "class CharRNN(nn.Module):\n",
    "    def __init__(self):\n",
    "        super().__init__()\n",
    "        self.embedding = nn.Embedding(vocab_size, embed_dim)\n",
    "        self.lstm = nn.LSTM(embed_dim, lstm_units, num_layers=2, batch_first=True)\n",
    "        self.fc = nn.Linear(lstm_units, vocab_size)\n",
    "        \n",
    "    def forward(self, x):\n",
    "        self.lstm.flatten_parameters()\n",
    "        x = self.embedding(x)\n",
    "        out, _ = self.lstm(x)\n",
    "        return self.fc(out[:, -1, :])\n",
    "\n",
    "# =====================\n",
    "# Federated Learning\n",
    "# =====================\n",
    "class FedAvg:\n",
    "    def __init__(self, config, model, client_datasets, test_loader):\n",
    "        self.config = config\n",
    "        self.global_model = model.to(device)\n",
    "        self.client_datasets = client_datasets\n",
    "        self.test_loader = test_loader\n",
    "        self.criterion = nn.CrossEntropyLoss()\n",
    "\n",
    "    def client_update(self, client_model, train_loader):\n",
    "        client_model.train()\n",
    "        optimizer = optim.SGD(client_model.parameters(), lr=self.config['lr'])\n",
    "        \n",
    "        for _ in range(self.config['local_epochs']):\n",
    "            for x, y in train_loader:\n",
    "                x, y = x.to(device), y.to(device)\n",
    "                optimizer.zero_grad()\n",
    "                outputs = client_model(x)\n",
    "                loss = self.criterion(outputs, y)\n",
    "                loss.backward()\n",
    "                optimizer.step()\n",
    "        return client_model.state_dict()\n",
    "\n",
    "    def aggregate(self, client_weights):\n",
    "        global_weights = copy.deepcopy(client_weights[0])\n",
    "        for key in global_weights:\n",
    "            for w in client_weights[1:]:\n",
    "                global_weights[key] += w[key]\n",
    "            global_weights[key] = torch.div(global_weights[key], len(client_weights))\n",
    "        return global_weights\n",
    "\n",
    "    def test(self):\n",
    "        self.global_model.eval()\n",
    "        total_loss = 0.0\n",
    "        correct = 0\n",
    "        total = 0\n",
    "        \n",
    "        with torch.no_grad():\n",
    "            for x, y in self.test_loader:\n",
    "                x, y = x.to(device), y.to(device)\n",
    "                outputs = self.global_model(x)\n",
    "                loss = self.criterion(outputs, y)\n",
    "                total_loss += loss.item() * y.size(0)\n",
    "                _, predicted = torch.max(outputs.data, 1)\n",
    "                total += y.size(0)\n",
    "                correct += (predicted == y).sum().item()\n",
    "                \n",
    "        accuracy = 100 * correct / total\n",
    "        avg_loss = total_loss / total\n",
    "        return accuracy, avg_loss\n",
    "\n",
    "    def run(self):\n",
    "        num_select = max(1, int(self.config['client_fraction'] * self.config['num_clients']))\n",
    "        accuracies = []\n",
    "        losses = []\n",
    "        \n",
    "        for round in tqdm(range(self.config['rounds'])):\n",
    "            # Client selection\n",
    "            selected = random.sample(range(self.config['num_clients']), num_select)\n",
    "            client_weights = []\n",
    "            \n",
    "            # Local training\n",
    "            for client in selected:\n",
    "                model = copy.deepcopy(self.global_model)\n",
    "                loader = DataLoader(self.client_datasets[client], \n",
    "                                  batch_size=self.config['batch_size'],\n",
    "                                  shuffle=True)\n",
    "                weights = self.client_update(model, loader)\n",
    "                client_weights.append(weights)\n",
    "            \n",
    "            # Aggregation\n",
    "            global_weights = self.aggregate(client_weights)\n",
    "            self.global_model.load_state_dict(global_weights)\n",
    "            \n",
    "            # Testing\n",
    "            acc, loss = self.test()\n",
    "            accuracies.append(acc)\n",
    "            losses.append(loss)\n",
    "            print(f\"Round {round+1}: Accuracy {acc:.2f}%, Loss: {loss:.4f}\")\n",
    "            \n",
    "        return accuracies, losses\n",
    "\n",
    "# =====================\n",
    "# Execution\n",
    "# =====================\n",
    "if __name__ == \"__main__\":\n",
    "    # Set random seeds\n",
    "    random.seed(42)\n",
    "    np.random.seed(42)\n",
    "    torch.manual_seed(42)\n",
    "    if torch.cuda.is_available():\n",
    "        torch.cuda.manual_seed_all(42)\n",
    "\n",
    "    # Configuration\n",
    "    config = {\n",
    "        'num_clients': K,\n",
    "        'client_fraction': C,\n",
    "        'rounds': N,\n",
    "        'local_epochs': J,\n",
    "        'lr': lr,\n",
    "        'batch_size': B\n",
    "    }\n",
    "\n",
    "    # Initialize model and FL\n",
    "    print(\"Initializing model...\")\n",
    "    global_model = CharRNN()\n",
    "    fedavg = FedAvg(config, global_model, client_datasets, test_loader)\n",
    "    \n",
    "    # Run training\n",
    "    print(\"\\nStarting Federated Learning...\")\n",
    "    accuracies, losses = fedavg.run()\n",
    "    \n",
    "    # Save results\n",
    "    timestamp = datetime.now().strftime(\"%Y%m%d_%H%M%S\")\n",
    "    torch.save(fedavg.global_model.state_dict(), f\"shakespeare_model_{timestamp}.pt\")\n",
    "    \n",
    "    # Plot results\n",
    "    plt.figure(figsize=(12, 5))\n",
    "    \n",
    "    # Accuracy plot\n",
    "    plt.subplot(1, 2, 1)\n",
    "    plt.plot(range(1, N+1), accuracies, 'b-o')\n",
    "    plt.xlabel(\"Communication Rounds\")\n",
    "    plt.ylabel(\"Test Accuracy (%)\")\n",
    "    plt.title(\"Accuracy Progress\")\n",
    "    plt.grid(True)\n",
    "    \n",
    "    # Loss plot\n",
    "    plt.subplot(1, 2, 2)\n",
    "    plt.plot(range(1, N+1), losses, 'r-o')\n",
    "    plt.xlabel(\"Communication Rounds\")\n",
    "    plt.ylabel(\"Test Loss\")\n",
    "    plt.title(\"Loss Progress\")\n",
    "    plt.grid(True)\n",
    "    \n",
    "    plt.tight_layout()\n",
    "    plt.savefig(f\"fl_results_{timestamp}.png\")\n",
    "    plt.show()\n",
    "\n",
    "    print(\"\\nTraining complete. Model and results saved.\")"
   ]
  },
  {
   "cell_type": "code",
   "execution_count": null,
   "id": "c9b466e9-d102-4c63-8bcd-4145fd4e47cc",
   "metadata": {},
   "outputs": [],
   "source": []
  }
 ],
 "metadata": {
  "kernelspec": {
   "display_name": "Python 3 (ipykernel)",
   "language": "python",
   "name": "python3"
  },
  "language_info": {
   "codemirror_mode": {
    "name": "ipython",
    "version": 3
   },
   "file_extension": ".py",
   "mimetype": "text/x-python",
   "name": "python",
   "nbconvert_exporter": "python",
   "pygments_lexer": "ipython3",
   "version": "3.10.12"
  }
 },
 "nbformat": 4,
 "nbformat_minor": 5
}
