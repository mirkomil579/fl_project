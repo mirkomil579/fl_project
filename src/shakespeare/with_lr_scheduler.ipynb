{
 "cells": [
  {
   "cell_type": "code",
   "execution_count": 1,
   "id": "initial_id",
   "metadata": {
    "collapsed": true,
    "ExecuteTime": {
     "end_time": "2025-01-19T04:07:35.653478Z",
     "start_time": "2025-01-19T04:07:33.255244Z"
    }
   },
   "outputs": [
    {
     "name": "stdout",
     "output_type": "stream",
     "text": [
      "Collecting numpy\r\n",
      "  Obtaining dependency information for numpy from https://files.pythonhosted.org/packages/9c/e6/efb8cd6122bf25e86e3dd89d9dbfec9e6861c50e8810eed77d4be59b51c6/numpy-2.2.2-cp311-cp311-macosx_14_0_arm64.whl.metadata\r\n",
      "  Using cached numpy-2.2.2-cp311-cp311-macosx_14_0_arm64.whl.metadata (62 kB)\r\n",
      "Using cached numpy-2.2.2-cp311-cp311-macosx_14_0_arm64.whl (5.4 MB)\r\n",
      "Installing collected packages: numpy\r\n",
      "Successfully installed numpy-2.2.2\r\n",
      "\r\n",
      "\u001B[1m[\u001B[0m\u001B[34;49mnotice\u001B[0m\u001B[1;39;49m]\u001B[0m\u001B[39;49m A new release of pip is available: \u001B[0m\u001B[31;49m23.2.1\u001B[0m\u001B[39;49m -> \u001B[0m\u001B[32;49m24.3.1\u001B[0m\r\n",
      "\u001B[1m[\u001B[0m\u001B[34;49mnotice\u001B[0m\u001B[1;39;49m]\u001B[0m\u001B[39;49m To update, run: \u001B[0m\u001B[32;49mpip install --upgrade pip\u001B[0m\r\n"
     ]
    }
   ],
   "source": [
    "!pip install numpy"
   ]
  },
  {
   "cell_type": "code",
   "outputs": [
    {
     "name": "stdout",
     "output_type": "stream",
     "text": [
      "Collecting pandas\r\n",
      "  Obtaining dependency information for pandas from https://files.pythonhosted.org/packages/52/11/9eac327a38834f162b8250aab32a6781339c69afe7574368fffe46387edf/pandas-2.2.3-cp311-cp311-macosx_11_0_arm64.whl.metadata\r\n",
      "  Using cached pandas-2.2.3-cp311-cp311-macosx_11_0_arm64.whl.metadata (89 kB)\r\n",
      "Requirement already satisfied: numpy>=1.23.2 in ./.venv/lib/python3.11/site-packages (from pandas) (2.2.2)\r\n",
      "Requirement already satisfied: python-dateutil>=2.8.2 in ./.venv/lib/python3.11/site-packages (from pandas) (2.9.0.post0)\r\n",
      "Collecting pytz>=2020.1 (from pandas)\r\n",
      "  Obtaining dependency information for pytz>=2020.1 from https://files.pythonhosted.org/packages/11/c3/005fcca25ce078d2cc29fd559379817424e94885510568bc1bc53d7d5846/pytz-2024.2-py2.py3-none-any.whl.metadata\r\n",
      "  Using cached pytz-2024.2-py2.py3-none-any.whl.metadata (22 kB)\r\n",
      "Collecting tzdata>=2022.7 (from pandas)\r\n",
      "  Obtaining dependency information for tzdata>=2022.7 from https://files.pythonhosted.org/packages/a6/ab/7e5f53c3b9d14972843a647d8d7a853969a58aecc7559cb3267302c94774/tzdata-2024.2-py2.py3-none-any.whl.metadata\r\n",
      "  Using cached tzdata-2024.2-py2.py3-none-any.whl.metadata (1.4 kB)\r\n",
      "Requirement already satisfied: six>=1.5 in ./.venv/lib/python3.11/site-packages (from python-dateutil>=2.8.2->pandas) (1.17.0)\r\n",
      "Using cached pandas-2.2.3-cp311-cp311-macosx_11_0_arm64.whl (11.3 MB)\r\n",
      "Using cached pytz-2024.2-py2.py3-none-any.whl (508 kB)\r\n",
      "Using cached tzdata-2024.2-py2.py3-none-any.whl (346 kB)\r\n",
      "Installing collected packages: pytz, tzdata, pandas\r\n",
      "Successfully installed pandas-2.2.3 pytz-2024.2 tzdata-2024.2\r\n",
      "\r\n",
      "\u001B[1m[\u001B[0m\u001B[34;49mnotice\u001B[0m\u001B[1;39;49m]\u001B[0m\u001B[39;49m A new release of pip is available: \u001B[0m\u001B[31;49m23.2.1\u001B[0m\u001B[39;49m -> \u001B[0m\u001B[32;49m24.3.1\u001B[0m\r\n",
      "\u001B[1m[\u001B[0m\u001B[34;49mnotice\u001B[0m\u001B[1;39;49m]\u001B[0m\u001B[39;49m To update, run: \u001B[0m\u001B[32;49mpip install --upgrade pip\u001B[0m\r\n",
      "Collecting matplotlib\r\n",
      "  Obtaining dependency information for matplotlib from https://files.pythonhosted.org/packages/c7/8b/92e9da1f28310a1f6572b5c55097b0c0ceb5e27486d85fb73b54f5a9b939/matplotlib-3.10.0-cp311-cp311-macosx_11_0_arm64.whl.metadata\r\n",
      "  Using cached matplotlib-3.10.0-cp311-cp311-macosx_11_0_arm64.whl.metadata (11 kB)\r\n",
      "Collecting contourpy>=1.0.1 (from matplotlib)\r\n",
      "  Obtaining dependency information for contourpy>=1.0.1 from https://files.pythonhosted.org/packages/67/71/1e6e95aee21a500415f5d2dbf037bf4567529b6a4e986594d7026ec5ae90/contourpy-1.3.1-cp311-cp311-macosx_11_0_arm64.whl.metadata\r\n",
      "  Using cached contourpy-1.3.1-cp311-cp311-macosx_11_0_arm64.whl.metadata (5.4 kB)\r\n",
      "Collecting cycler>=0.10 (from matplotlib)\r\n",
      "  Obtaining dependency information for cycler>=0.10 from https://files.pythonhosted.org/packages/e7/05/c19819d5e3d95294a6f5947fb9b9629efb316b96de511b418c53d245aae6/cycler-0.12.1-py3-none-any.whl.metadata\r\n",
      "  Using cached cycler-0.12.1-py3-none-any.whl.metadata (3.8 kB)\r\n",
      "Collecting fonttools>=4.22.0 (from matplotlib)\r\n",
      "  Obtaining dependency information for fonttools>=4.22.0 from https://files.pythonhosted.org/packages/4b/18/14be25545600bd100e5b74a3ac39089b7c1cb403dc513b7ca348be3381bf/fonttools-4.55.3-cp311-cp311-macosx_10_9_universal2.whl.metadata\r\n",
      "  Using cached fonttools-4.55.3-cp311-cp311-macosx_10_9_universal2.whl.metadata (165 kB)\r\n",
      "Collecting kiwisolver>=1.3.1 (from matplotlib)\r\n",
      "  Obtaining dependency information for kiwisolver>=1.3.1 from https://files.pythonhosted.org/packages/5f/b4/c12b3ac0852a3a68f94598d4c8d569f55361beef6159dce4e7b624160da2/kiwisolver-1.4.8-cp311-cp311-macosx_11_0_arm64.whl.metadata\r\n",
      "  Using cached kiwisolver-1.4.8-cp311-cp311-macosx_11_0_arm64.whl.metadata (6.2 kB)\r\n",
      "Requirement already satisfied: numpy>=1.23 in ./.venv/lib/python3.11/site-packages (from matplotlib) (2.2.2)\r\n",
      "Requirement already satisfied: packaging>=20.0 in ./.venv/lib/python3.11/site-packages (from matplotlib) (24.2)\r\n",
      "Collecting pillow>=8 (from matplotlib)\r\n",
      "  Obtaining dependency information for pillow>=8 from https://files.pythonhosted.org/packages/d9/45/3fe487010dd9ce0a06adf9b8ff4f273cc0a44536e234b0fad3532a42c15b/pillow-11.1.0-cp311-cp311-macosx_11_0_arm64.whl.metadata\r\n",
      "  Using cached pillow-11.1.0-cp311-cp311-macosx_11_0_arm64.whl.metadata (9.1 kB)\r\n",
      "Collecting pyparsing>=2.3.1 (from matplotlib)\r\n",
      "  Obtaining dependency information for pyparsing>=2.3.1 from https://files.pythonhosted.org/packages/1c/a7/c8a2d361bf89c0d9577c934ebb7421b25dc84bf3a8e3ac0a40aed9acc547/pyparsing-3.2.1-py3-none-any.whl.metadata\r\n",
      "  Using cached pyparsing-3.2.1-py3-none-any.whl.metadata (5.0 kB)\r\n",
      "Requirement already satisfied: python-dateutil>=2.7 in ./.venv/lib/python3.11/site-packages (from matplotlib) (2.9.0.post0)\r\n",
      "Requirement already satisfied: six>=1.5 in ./.venv/lib/python3.11/site-packages (from python-dateutil>=2.7->matplotlib) (1.17.0)\r\n",
      "Using cached matplotlib-3.10.0-cp311-cp311-macosx_11_0_arm64.whl (8.0 MB)\r\n",
      "Using cached contourpy-1.3.1-cp311-cp311-macosx_11_0_arm64.whl (254 kB)\r\n",
      "Using cached cycler-0.12.1-py3-none-any.whl (8.3 kB)\r\n",
      "Using cached fonttools-4.55.3-cp311-cp311-macosx_10_9_universal2.whl (2.8 MB)\r\n",
      "Using cached kiwisolver-1.4.8-cp311-cp311-macosx_11_0_arm64.whl (65 kB)\r\n",
      "Using cached pillow-11.1.0-cp311-cp311-macosx_11_0_arm64.whl (3.1 MB)\r\n",
      "Using cached pyparsing-3.2.1-py3-none-any.whl (107 kB)\r\n",
      "Installing collected packages: pyparsing, pillow, kiwisolver, fonttools, cycler, contourpy, matplotlib\r\n",
      "Successfully installed contourpy-1.3.1 cycler-0.12.1 fonttools-4.55.3 kiwisolver-1.4.8 matplotlib-3.10.0 pillow-11.1.0 pyparsing-3.2.1\r\n",
      "\r\n",
      "\u001B[1m[\u001B[0m\u001B[34;49mnotice\u001B[0m\u001B[1;39;49m]\u001B[0m\u001B[39;49m A new release of pip is available: \u001B[0m\u001B[31;49m23.2.1\u001B[0m\u001B[39;49m -> \u001B[0m\u001B[32;49m24.3.1\u001B[0m\r\n",
      "\u001B[1m[\u001B[0m\u001B[34;49mnotice\u001B[0m\u001B[1;39;49m]\u001B[0m\u001B[39;49m To update, run: \u001B[0m\u001B[32;49mpip install --upgrade pip\u001B[0m\r\n"
     ]
    }
   ],
   "source": [
    "!pip install pandas\n",
    "!pip install matplotlib"
   ],
   "metadata": {
    "collapsed": false,
    "ExecuteTime": {
     "end_time": "2025-01-19T04:08:01.757168Z",
     "start_time": "2025-01-19T04:07:54.099999Z"
    }
   },
   "id": "81b341ae2bfe62db",
   "execution_count": 2
  },
  {
   "cell_type": "code",
   "outputs": [
    {
     "name": "stdout",
     "output_type": "stream",
     "text": [
      "Collecting torch\r\n",
      "  Obtaining dependency information for torch from https://files.pythonhosted.org/packages/d0/db/5d9cbfbc7968d79c5c09a0bc0bc3735da079f2fd07cc10498a62b320a480/torch-2.5.1-cp311-none-macosx_11_0_arm64.whl.metadata\r\n",
      "  Downloading torch-2.5.1-cp311-none-macosx_11_0_arm64.whl.metadata (28 kB)\r\n",
      "Collecting filelock (from torch)\r\n",
      "  Obtaining dependency information for filelock from https://files.pythonhosted.org/packages/b9/f8/feced7779d755758a52d1f6635d990b8d98dc0a29fa568bbe0625f18fdf3/filelock-3.16.1-py3-none-any.whl.metadata\r\n",
      "  Downloading filelock-3.16.1-py3-none-any.whl.metadata (2.9 kB)\r\n",
      "Requirement already satisfied: typing-extensions>=4.8.0 in ./.venv/lib/python3.11/site-packages (from torch) (4.12.2)\r\n",
      "Collecting networkx (from torch)\r\n",
      "  Obtaining dependency information for networkx from https://files.pythonhosted.org/packages/b9/54/dd730b32ea14ea797530a4479b2ed46a6fb250f682a9cfb997e968bf0261/networkx-3.4.2-py3-none-any.whl.metadata\r\n",
      "  Downloading networkx-3.4.2-py3-none-any.whl.metadata (6.3 kB)\r\n",
      "Requirement already satisfied: jinja2 in ./.venv/lib/python3.11/site-packages (from torch) (3.1.5)\r\n",
      "Collecting fsspec (from torch)\r\n",
      "  Obtaining dependency information for fsspec from https://files.pythonhosted.org/packages/de/86/5486b0188d08aa643e127774a99bac51ffa6cf343e3deb0583956dca5b22/fsspec-2024.12.0-py3-none-any.whl.metadata\r\n",
      "  Downloading fsspec-2024.12.0-py3-none-any.whl.metadata (11 kB)\r\n",
      "Collecting sympy==1.13.1 (from torch)\r\n",
      "  Obtaining dependency information for sympy==1.13.1 from https://files.pythonhosted.org/packages/b2/fe/81695a1aa331a842b582453b605175f419fe8540355886031328089d840a/sympy-1.13.1-py3-none-any.whl.metadata\r\n",
      "  Downloading sympy-1.13.1-py3-none-any.whl.metadata (12 kB)\r\n",
      "Collecting mpmath<1.4,>=1.1.0 (from sympy==1.13.1->torch)\r\n",
      "  Obtaining dependency information for mpmath<1.4,>=1.1.0 from https://files.pythonhosted.org/packages/43/e3/7d92a15f894aa0c9c4b49b8ee9ac9850d6e63b03c9c32c0367a13ae62209/mpmath-1.3.0-py3-none-any.whl.metadata\r\n",
      "  Using cached mpmath-1.3.0-py3-none-any.whl.metadata (8.6 kB)\r\n",
      "Requirement already satisfied: MarkupSafe>=2.0 in ./.venv/lib/python3.11/site-packages (from jinja2->torch) (3.0.2)\r\n",
      "Downloading torch-2.5.1-cp311-none-macosx_11_0_arm64.whl (63.9 MB)\r\n",
      "\u001B[2K   \u001B[90m━━━━━━━━━━━━━━━━━━━━━━━━━━━━━━━━━━━━━━━━\u001B[0m \u001B[32m63.9/63.9 MB\u001B[0m \u001B[31m60.0 MB/s\u001B[0m eta \u001B[36m0:00:00\u001B[0m00:01\u001B[0m:00:01\u001B[0m\r\n",
      "\u001B[?25hDownloading sympy-1.13.1-py3-none-any.whl (6.2 MB)\r\n",
      "\u001B[2K   \u001B[90m━━━━━━━━━━━━━━━━━━━━━━━━━━━━━━━━━━━━━━━━\u001B[0m \u001B[32m6.2/6.2 MB\u001B[0m \u001B[31m87.7 MB/s\u001B[0m eta \u001B[36m0:00:00\u001B[0m:00:01\u001B[0m00:01\u001B[0m\r\n",
      "\u001B[?25hDownloading filelock-3.16.1-py3-none-any.whl (16 kB)\r\n",
      "Downloading fsspec-2024.12.0-py3-none-any.whl (183 kB)\r\n",
      "\u001B[2K   \u001B[90m━━━━━━━━━━━━━━━━━━━━━━━━━━━━━━━━━━━━━━━━\u001B[0m \u001B[32m183.9/183.9 kB\u001B[0m \u001B[31m27.5 MB/s\u001B[0m eta \u001B[36m0:00:00\u001B[0m\r\n",
      "\u001B[?25hDownloading networkx-3.4.2-py3-none-any.whl (1.7 MB)\r\n",
      "\u001B[2K   \u001B[90m━━━━━━━━━━━━━━━━━━━━━━━━━━━━━━━━━━━━━━━━\u001B[0m \u001B[32m1.7/1.7 MB\u001B[0m \u001B[31m92.7 MB/s\u001B[0m eta \u001B[36m0:00:00\u001B[0m\r\n",
      "\u001B[?25hUsing cached mpmath-1.3.0-py3-none-any.whl (536 kB)\r\n",
      "Installing collected packages: mpmath, sympy, networkx, fsspec, filelock, torch\r\n",
      "Successfully installed filelock-3.16.1 fsspec-2024.12.0 mpmath-1.3.0 networkx-3.4.2 sympy-1.13.1 torch-2.5.1\r\n",
      "\r\n",
      "\u001B[1m[\u001B[0m\u001B[34;49mnotice\u001B[0m\u001B[1;39;49m]\u001B[0m\u001B[39;49m A new release of pip is available: \u001B[0m\u001B[31;49m23.2.1\u001B[0m\u001B[39;49m -> \u001B[0m\u001B[32;49m24.3.1\u001B[0m\r\n",
      "\u001B[1m[\u001B[0m\u001B[34;49mnotice\u001B[0m\u001B[1;39;49m]\u001B[0m\u001B[39;49m To update, run: \u001B[0m\u001B[32;49mpip install --upgrade pip\u001B[0m\r\n"
     ]
    }
   ],
   "source": [
    "!pip install torch"
   ],
   "metadata": {
    "collapsed": false,
    "ExecuteTime": {
     "end_time": "2025-01-19T04:08:14.503572Z",
     "start_time": "2025-01-19T04:08:03.009002Z"
    }
   },
   "id": "301734e51e402443",
   "execution_count": 3
  },
  {
   "cell_type": "code",
   "outputs": [
    {
     "name": "stdout",
     "output_type": "stream",
     "text": [
      "Cloning into 'leaf'...\r\n",
      "remote: Enumerating objects: 782, done.\u001B[K\r\n",
      "remote: Counting objects: 100% (6/6), done.\u001B[K\r\n",
      "remote: Compressing objects: 100% (6/6), done.\u001B[K\r\n",
      "remote: Total 782 (delta 1), reused 2 (delta 0), pack-reused 776 (from 1)\u001B[K\r\n",
      "Receiving objects: 100% (782/782), 6.78 MiB | 19.30 MiB/s, done.\r\n",
      "Resolving deltas: 100% (372/372), done.\r\n",
      "/Users/mirkomilegamberdiev/Desktop/ml/shakespeare/leaf\n"
     ]
    },
    {
     "name": "stderr",
     "output_type": "stream",
     "text": [
      "/Users/mirkomilegamberdiev/Desktop/ml/shakespeare/.venv/lib/python3.11/site-packages/IPython/core/magics/osm.py:417: UserWarning: This is now an optional IPython functionality, setting dhist requires you to install the `pickleshare` library.\n",
      "  self.shell.db['dhist'] = compress_dhist(dhist)[-100:]\n"
     ]
    }
   ],
   "source": [
    "!git clone https://github.com/TalwalkarLab/leaf.git\n",
    "%cd leaf\n",
    "# In leaf/data/shakespeare/preprocess/get_data.sh we should change the link\n",
    "# to http://www.gutenberg.org/files/100/old/old/1994-01-100.zip and save that script"
   ],
   "metadata": {
    "collapsed": false,
    "ExecuteTime": {
     "end_time": "2025-01-19T04:08:21.527004Z",
     "start_time": "2025-01-19T04:08:20.261192Z"
    }
   },
   "id": "18624f9c9097f0bd",
   "execution_count": 4
  },
  {
   "cell_type": "code",
   "outputs": [
    {
     "name": "stdout",
     "output_type": "stream",
     "text": [
      "/Users/mirkomilegamberdiev/Desktop/ml/shakespeare/leaf\r\n"
     ]
    }
   ],
   "source": [
    "!pwd"
   ],
   "metadata": {
    "collapsed": false,
    "ExecuteTime": {
     "end_time": "2025-01-19T04:08:32.554303Z",
     "start_time": "2025-01-19T04:08:32.427733Z"
    }
   },
   "id": "5541027082b33c77",
   "execution_count": 5
  },
  {
   "cell_type": "code",
   "outputs": [],
   "source": [
    "!cd .."
   ],
   "metadata": {
    "collapsed": false,
    "ExecuteTime": {
     "end_time": "2025-01-19T04:09:32.200968Z",
     "start_time": "2025-01-19T04:09:32.074820Z"
    }
   },
   "id": "fe1ec910da50f445",
   "execution_count": 6
  },
  {
   "cell_type": "code",
   "outputs": [
    {
     "name": "stdout",
     "output_type": "stream",
     "text": [
      "/Users/mirkomilegamberdiev/Desktop/ml/shakespeare/leaf\r\n"
     ]
    }
   ],
   "source": [
    "!pwd"
   ],
   "metadata": {
    "collapsed": false,
    "ExecuteTime": {
     "end_time": "2025-01-19T04:09:36.463587Z",
     "start_time": "2025-01-19T04:09:36.344746Z"
    }
   },
   "id": "b6ef0daabc52d8be",
   "execution_count": 7
  },
  {
   "cell_type": "code",
   "outputs": [
    {
     "name": "stdout",
     "output_type": "stream",
     "text": [
      "Collecting numpy==1.16.4 (from -r requirements.txt (line 1))\r\n",
      "  Using cached numpy-1.16.4.zip (5.1 MB)\r\n",
      "  Preparing metadata (setup.py) ... \u001B[?25ldone\r\n",
      "\u001B[?25hCollecting scipy (from -r requirements.txt (line 2))\r\n",
      "  Obtaining dependency information for scipy from https://files.pythonhosted.org/packages/3b/9c/6f4b787058daa8d8da21ddff881b4320e28de4704a65ec147adb50cb2230/scipy-1.15.1-cp311-cp311-macosx_14_0_arm64.whl.metadata\r\n",
      "  Using cached scipy-1.15.1-cp311-cp311-macosx_14_0_arm64.whl.metadata (61 kB)\r\n",
      "\u001B[31mERROR: Ignored the following versions that require a different python version: 1.21.2 Requires-Python >=3.7,<3.11; 1.21.3 Requires-Python >=3.7,<3.11; 1.21.4 Requires-Python >=3.7,<3.11; 1.21.5 Requires-Python >=3.7,<3.11; 1.21.6 Requires-Python >=3.7,<3.11; 1.6.2 Requires-Python >=3.7,<3.10; 1.6.3 Requires-Python >=3.7,<3.10; 1.7.0 Requires-Python >=3.7,<3.10; 1.7.1 Requires-Python >=3.7,<3.10; 1.7.2 Requires-Python >=3.7,<3.11; 1.7.3 Requires-Python >=3.7,<3.11; 1.8.0 Requires-Python >=3.8,<3.11; 1.8.0rc1 Requires-Python >=3.8,<3.11; 1.8.0rc2 Requires-Python >=3.8,<3.11; 1.8.0rc3 Requires-Python >=3.8,<3.11; 1.8.0rc4 Requires-Python >=3.8,<3.11; 1.8.1 Requires-Python >=3.8,<3.11\u001B[0m\u001B[31m\r\n",
      "\u001B[0m\u001B[31mERROR: Could not find a version that satisfies the requirement tensorflow==1.13.1 (from versions: 2.13.0rc0, 2.13.0rc1, 2.13.0rc2, 2.13.0, 2.13.1, 2.14.0rc0, 2.14.0rc1, 2.14.0, 2.14.1, 2.15.0rc0, 2.15.0rc1, 2.15.0, 2.15.1, 2.16.0rc0, 2.16.1, 2.16.2, 2.17.0rc0, 2.17.0rc1, 2.17.0, 2.17.1, 2.18.0rc0, 2.18.0rc1, 2.18.0rc2, 2.18.0)\u001B[0m\u001B[31m\r\n",
      "\u001B[0m\u001B[31mERROR: No matching distribution found for tensorflow==1.13.1\u001B[0m\u001B[31m\r\n",
      "\u001B[0m\r\n",
      "\u001B[1m[\u001B[0m\u001B[34;49mnotice\u001B[0m\u001B[1;39;49m]\u001B[0m\u001B[39;49m A new release of pip is available: \u001B[0m\u001B[31;49m23.2.1\u001B[0m\u001B[39;49m -> \u001B[0m\u001B[32;49m24.3.1\u001B[0m\r\n",
      "\u001B[1m[\u001B[0m\u001B[34;49mnotice\u001B[0m\u001B[1;39;49m]\u001B[0m\u001B[39;49m To update, run: \u001B[0m\u001B[32;49mpip install --upgrade pip\u001B[0m\r\n",
      "/Users/mirkomilegamberdiev/Desktop/ml/shakespeare/leaf/data/shakespeare\n",
      "./get_data.sh: line 5: wget: command not found\r\n",
      "unzip:  cannot find or open 1994-01-100.zip, 1994-01-100.zip.zip or 1994-01-100.zip.ZIP.\r\n",
      "rm: 1994-01-100.zip: No such file or directory\r\n",
      "mv: rename 100.txt to raw_data.txt: No such file or directory\r\n",
      "dividing txt data between users\r\n",
      "Splitting .txt data between users\r\n",
      "Traceback (most recent call last):\r\n",
      "  File \"/Users/mirkomilegamberdiev/Desktop/ml/shakespeare/leaf/data/shakespeare/preprocess/preprocess_shakespeare.py\", line 201, in <module>\r\n",
      "    main(sys.argv[1:])\r\n",
      "  File \"/Users/mirkomilegamberdiev/Desktop/ml/shakespeare/leaf/data/shakespeare/preprocess/preprocess_shakespeare.py\", line 188, in main\r\n",
      "    with open(input_filename, 'r') as input_file:\r\n",
      "         ^^^^^^^^^^^^^^^^^^^^^^^^^\r\n",
      "FileNotFoundError: [Errno 2] No such file or directory: '../data/raw_data/raw_data.txt'\r\n",
      "generating all_data.json\r\n",
      "Traceback (most recent call last):\r\n",
      "  File \"/Users/mirkomilegamberdiev/Desktop/ml/shakespeare/leaf/data/shakespeare/preprocess/gen_all_data.py\", line 22, in <module>\r\n",
      "    json_data = parse_data_in(txt_dir, users_and_plays_path, args.raw)\r\n",
      "                ^^^^^^^^^^^^^^^^^^^^^^^^^^^^^^^^^^^^^^^^^^^^^^^^^^^^^^\r\n",
      "  File \"/Users/mirkomilegamberdiev/Desktop/ml/shakespeare/leaf/data/shakespeare/preprocess/shake_utils.py\", line 37, in parse_data_in\r\n",
      "    with open(users_and_plays_path, 'r') as inf:\r\n",
      "         ^^^^^^^^^^^^^^^^^^^^^^^^^^^^^^^\r\n",
      "FileNotFoundError: [Errno 2] No such file or directory: '/Users/mirkomilegamberdiev/Desktop/ml/shakespeare/leaf/data/shakespeare/data/raw_data/users_and_plays.json'\r\n",
      "------------------------------\r\n",
      "generating training and test sets\r\n",
      "- random seed written out to /Users/mirkomilegamberdiev/Desktop/ml/shakespeare/leaf/data/shakespeare/meta/split_seed.txt\r\n",
      "Traceback (most recent call last):\r\n",
      "  File \"/Users/mirkomilegamberdiev/Desktop/ml/shakespeare/leaf/data/utils/split_data.py\", line 126, in <module>\r\n",
      "    file_dir = os.path.join(subdir, files[0])\r\n",
      "                                    ~~~~~^^^\r\n",
      "IndexError: list index out of range\r\n",
      "------------------------------\r\n",
      "calculating JSON file checksums\r\n",
      "checksums written to meta/dir-checksum.md5\r\n",
      "/Users/mirkomilegamberdiev/Desktop/ml/shakespeare/leaf\n"
     ]
    }
   ],
   "source": [
    "!pip install -r requirements.txt\n",
    "%cd data/shakespeare\n",
    "!./preprocess.sh --sf 0.2 -t sample -tf 0.8\n",
    "%cd ../.."
   ],
   "metadata": {
    "collapsed": false,
    "ExecuteTime": {
     "end_time": "2025-01-19T04:17:38.452613Z",
     "start_time": "2025-01-19T04:17:36.924043Z"
    }
   },
   "id": "44cc0e7bd5af372a",
   "execution_count": 16
  },
  {
   "cell_type": "code",
   "outputs": [
    {
     "name": "stdout",
     "output_type": "stream",
     "text": [
      "80\n"
     ]
    }
   ],
   "source": [
    "ALL_LETTERS = \"\\n !\\\"&'(),-.0123456789:;>?ABCDEFGHIJKLMNOPQRSTUVWXYZ[]abcdefghijklmnopqrstuvwxyz}\"\n",
    "NUM_LETTERS = len(ALL_LETTERS)\n",
    "print(NUM_LETTERS)\n",
    "\n",
    "def _one_hot(index, size): # this function returns one-hot vector with given size and value 1 at given index\n",
    "    vec = [0 for _ in range(size)]\n",
    "    vec[int(index)] = 1\n",
    "    return vec\n",
    "\n",
    "def letter_to_vec(letter): # this function returns one-hot representation of given letter\n",
    "    index = ALL_LETTERS.find(letter)\n",
    "    return _one_hot(index, NUM_LETTERS)\n",
    "\n",
    "def word_to_indices(word): # this function returns indices of given word\n",
    "    indices = []\n",
    "    for c in word:\n",
    "        indices.append(ALL_LETTERS.find(c))\n",
    "    return indices"
   ],
   "metadata": {
    "collapsed": false,
    "ExecuteTime": {
     "end_time": "2025-01-19T09:49:15.956221Z",
     "start_time": "2025-01-19T09:49:15.951773Z"
    }
   },
   "id": "1d2b37efc2d48b29",
   "execution_count": 20
  },
  {
   "cell_type": "code",
   "outputs": [],
   "source": [
    "import torch\n",
    "from torch.utils.data import Dataset\n",
    "import numpy as np\n",
    "import json\n",
    "import os\n",
    "\n",
    "# Function to read and parse training and testing data\n",
    "def read_data(train_data_path, test_data_path):\n",
    "    def read_file(path):\n",
    "        with open(path, 'r') as f:\n",
    "            return json.load(f)\n",
    "\n",
    "    train_data = read_file(train_data_path)\n",
    "    test_data = read_file(test_data_path)\n",
    "\n",
    "    # Extract users and their corresponding data from training and testing datasets\n",
    "    train_clients = list(train_data['users'])  # List of training users\n",
    "    train_groups = list(train_data['user_data'].keys())  # Groups for training data\n",
    "    train_data_temp = train_data['user_data']  # Actual training data\n",
    "\n",
    "    test_clients = list(test_data['users'])  # List of testing users\n",
    "    test_groups = list(test_data['user_data'].keys())  # Groups for testing data\n",
    "    test_data_temp = test_data['user_data']  # Actual testing data\n",
    "\n",
    "    return train_clients, train_groups, train_data_temp, test_data_temp\n",
    "\n",
    "# Custom Dataset class for the Shakespeare dataset\n",
    "class Shakespeare(Dataset):\n",
    "    def __init__(self, train=True, args=None):\n",
    "        super(Shakespeare, self).__init__()\n",
    "\n",
    "        # Read the training and testing data\n",
    "        train_clients, train_groups, train_data_temp, test_data_temp = read_data(args.shakespeare_train_path, args.shakespeare_test_path)\n",
    "        self.train = train\n",
    "\n",
    "        if self.train:\n",
    "            # For training, organize data into inputs and labels\n",
    "            self.dic_users = {}\n",
    "            train_data_x = []\n",
    "            train_data_y = []\n",
    "            for i, client in enumerate(train_clients):\n",
    "                self.dic_users[i] = set()\n",
    "                l = len(train_data_x)\n",
    "                cur_x = train_data_temp[client]['x']\n",
    "                cur_y = train_data_temp[client]['y']\n",
    "                for j in range(len(cur_x)):\n",
    "                    self.dic_users[i].add(j + l)\n",
    "                    train_data_x.append(cur_x[j])\n",
    "                    train_data_y.append(cur_y[j])\n",
    "            self.data = train_data_x\n",
    "            self.label = train_data_y\n",
    "        else:\n",
    "            # For testing, organize data without user mapping\n",
    "            test_data_x = []\n",
    "            test_data_y = []\n",
    "            for i, client in enumerate(train_clients):\n",
    "                cur_x = test_data_temp[client]['x']\n",
    "                cur_y = test_data_temp[client]['y']\n",
    "                for j in range(len(cur_x)):\n",
    "                    test_data_x.append(cur_x[j])\n",
    "                    test_data_y.append(cur_y[j])\n",
    "            self.data = test_data_x\n",
    "            self.label = test_data_y\n",
    "\n",
    "    def __len__(self):\n",
    "        return len(self.data)\n",
    "\n",
    "    # Fetches a single sample from the dataset by index.\n",
    "    def __getitem__(self, index):\n",
    "        sentence, target = self.data[index], self.label[index]\n",
    "        indices = word_to_indices(sentence)\n",
    "        target = letter_to_vec(target)\n",
    "        indices = torch.LongTensor(np.array(indices))\n",
    "        target = torch.FloatTensor(np.array(target))\n",
    "        return indices, target\n",
    "\n",
    "    # Returns the mapping of user IDs to their data indices.\n",
    "    def get_client_dic(self):\n",
    "        if self.train:\n",
    "            return self.dic_users\n",
    "        else:\n",
    "            raise ValueError(\"The test dataset does not have dic_users!\")"
   ],
   "metadata": {
    "collapsed": false,
    "ExecuteTime": {
     "end_time": "2025-01-19T09:49:20.754332Z",
     "start_time": "2025-01-19T09:49:20.747218Z"
    }
   },
   "id": "93ebe1f110d0702",
   "execution_count": 21
  },
  {
   "cell_type": "code",
   "outputs": [
    {
     "name": "stdout",
     "output_type": "stream",
     "text": [
      "/Users/mirkomilegamberdiev/Desktop/ml/shakespeare/leaf\r\n"
     ]
    }
   ],
   "source": [
    "!pwd"
   ],
   "metadata": {
    "collapsed": false,
    "ExecuteTime": {
     "end_time": "2025-01-19T09:49:22.274149Z",
     "start_time": "2025-01-19T09:49:21.901693Z"
    }
   },
   "id": "f56198e5a6164a88",
   "execution_count": 22
  },
  {
   "cell_type": "code",
   "outputs": [],
   "source": [
    "import torch\n",
    "from torch import nn\n",
    "import torch.nn.functional as F\n",
    "from torch import nn, optim\n",
    "from torch.utils.data import DataLoader\n",
    "\n",
    "class CharLSTM(nn.Module):\n",
    "    def __init__(self):\n",
    "        super(CharLSTM, self).__init__()\n",
    "        embedding_dim = 8\n",
    "        hidden_size = 100\n",
    "        num_LSTM = 2\n",
    "        input_length = 80\n",
    "        self.n_cls = 80\n",
    "        self.embedding = nn.Embedding(input_length, embedding_dim)\n",
    "        self.stacked_LSTM = nn.LSTM(input_size=embedding_dim, hidden_size=hidden_size, num_layers=num_LSTM)\n",
    "        self.fc = nn.Linear(hidden_size, self.n_cls)\n",
    "\n",
    "    def forward(self, x):\n",
    "        x = self.embedding(x)\n",
    "        x = x.permute(1, 0, 2)\n",
    "        output, (h_, c_) = self.stacked_LSTM(x)\n",
    "        last_hidden = output[-1, :, :]\n",
    "        x = self.fc(last_hidden)\n",
    "\n",
    "        return x\n",
    "\n",
    "# Define the model, loss function, number of epochs, and optimizer\n",
    "model = CharLSTM()\n",
    "criterion = nn.CrossEntropyLoss()\n",
    "epochs = 10\n",
    "optimizer = optim.SGD(model.parameters(), lr=0.01, momentum=0.9, weight_decay=1e-4)\n",
    "\n",
    "class Args:\n",
    "    shakespeare_train_path = '/Users/mirkomilegamberdiev/Desktop/ml/shakespeare/leaf/data/shakespeare/data/train/all_data_train_9.json'\n",
    "    shakespeare_test_path = '/Users/mirkomilegamberdiev/Desktop/ml/shakespeare/leaf/data/shakespeare/data/test/all_data_test_9.json'\n",
    "\n",
    "args = Args()\n",
    "train_dataset = Shakespeare(train=True, args=args)\n",
    "test_dataset = Shakespeare(train=False, args=args)\n",
    "\n",
    "train_loader = DataLoader(train_dataset, batch_size=64, shuffle=True)\n",
    "test_loader = DataLoader(test_dataset, batch_size=64, shuffle=False)"
   ],
   "metadata": {
    "collapsed": false,
    "ExecuteTime": {
     "end_time": "2025-01-19T09:49:28.920837Z",
     "start_time": "2025-01-19T09:49:26.837249Z"
    }
   },
   "id": "2cc7bf7832eb112c",
   "execution_count": 23
  },
  {
   "cell_type": "code",
   "outputs": [
    {
     "name": "stdout",
     "output_type": "stream",
     "text": [
      "Using MPS for acceleration\n"
     ]
    },
    {
     "data": {
      "text/plain": "CharLSTM(\n  (embedding): Embedding(80, 8)\n  (stacked_LSTM): LSTM(8, 100, num_layers=2)\n  (fc): Linear(in_features=100, out_features=80, bias=True)\n)"
     },
     "execution_count": 24,
     "metadata": {},
     "output_type": "execute_result"
    }
   ],
   "source": [
    "# Check for MPS (Metal Performance Shaders) support\n",
    "if torch.backends.mps.is_available():\n",
    "    device = torch.device(\"mps\")  # Use MPS on macOS\n",
    "    print(\"Using MPS for acceleration\")\n",
    "else:\n",
    "    device = torch.device(\"cuda\" if torch.cuda.is_available() else \"cpu\")\n",
    "    print(f\"Using {device} for acceleration\")\n",
    "\n",
    "# Move the model to the selected device\n",
    "model.to(device)"
   ],
   "metadata": {
    "collapsed": false,
    "ExecuteTime": {
     "end_time": "2025-01-19T09:49:32.848353Z",
     "start_time": "2025-01-19T09:49:32.833953Z"
    }
   },
   "id": "2ea69f61f1ae702",
   "execution_count": 24
  },
  {
   "cell_type": "code",
   "outputs": [
    {
     "name": "stdout",
     "output_type": "stream",
     "text": [
      "Using MPS for acceleration\n",
      "Epoch [1/20] - Train Loss: 2.0101 - Test Loss: 1.7243 - Test Accuracy: 49.55% - Time: 10.38 minutes\n",
      "Epoch [2/20] - Train Loss: 1.6676 - Test Loss: 1.6183 - Test Accuracy: 52.15% - Time: 10.24 minutes\n",
      "Epoch [3/20] - Train Loss: 1.5961 - Test Loss: 1.5735 - Test Accuracy: 53.30% - Time: 10.25 minutes\n",
      "Epoch [4/20] - Train Loss: 1.5603 - Test Loss: 1.5466 - Test Accuracy: 53.87% - Time: 10.31 minutes\n",
      "Epoch [5/20] - Train Loss: 1.5378 - Test Loss: 1.5249 - Test Accuracy: 54.45% - Time: 10.33 minutes\n",
      "Epoch [6/20] - Train Loss: 1.5218 - Test Loss: 1.5136 - Test Accuracy: 54.68% - Time: 10.11 minutes\n",
      "Epoch [7/20] - Train Loss: 1.5106 - Test Loss: 1.5013 - Test Accuracy: 55.03% - Time: 10.20 minutes\n",
      "Epoch [8/20] - Train Loss: 1.5001 - Test Loss: 1.4930 - Test Accuracy: 55.22% - Time: 10.13 minutes\n",
      "Epoch [9/20] - Train Loss: 1.4910 - Test Loss: 1.4887 - Test Accuracy: 55.31% - Time: 10.38 minutes\n",
      "Epoch [10/20] - Train Loss: 1.4830 - Test Loss: 1.4833 - Test Accuracy: 55.42% - Time: 10.33 minutes\n",
      "Epoch [11/20] - Train Loss: 1.4755 - Test Loss: 1.4722 - Test Accuracy: 55.82% - Time: 10.36 minutes\n",
      "Epoch [12/20] - Train Loss: 1.4683 - Test Loss: 1.4681 - Test Accuracy: 55.98% - Time: 10.23 minutes\n",
      "Epoch [13/20] - Train Loss: 1.4612 - Test Loss: 1.4616 - Test Accuracy: 56.14% - Time: 10.23 minutes\n",
      "Epoch [14/20] - Train Loss: 1.4543 - Test Loss: 1.4571 - Test Accuracy: 56.28% - Time: 10.25 minutes\n",
      "Epoch [15/20] - Train Loss: 1.4478 - Test Loss: 1.4478 - Test Accuracy: 56.54% - Time: 10.25 minutes\n",
      "Epoch [16/20] - Train Loss: 1.4418 - Test Loss: 1.4449 - Test Accuracy: 56.62% - Time: 10.32 minutes\n",
      "Epoch [17/20] - Train Loss: 1.4364 - Test Loss: 1.4393 - Test Accuracy: 56.87% - Time: 10.33 minutes\n",
      "Epoch [18/20] - Train Loss: 1.4317 - Test Loss: 1.4363 - Test Accuracy: 56.94% - Time: 10.10 minutes\n",
      "Epoch [19/20] - Train Loss: 1.4282 - Test Loss: 1.4336 - Test Accuracy: 57.02% - Time: 10.21 minutes\n",
      "Epoch [20/20] - Train Loss: 1.4259 - Test Loss: 1.4322 - Test Accuracy: 57.06% - Time: 10.09 minutes\n",
      "Training complete.\n"
     ]
    },
    {
     "data": {
      "text/plain": "<Figure size 1000x500 with 1 Axes>",
      "image/png": "[encoded data removed]"
     },
     "metadata": {},
     "output_type": "display_data"
    },
    {
     "data": {
      "text/plain": "<Figure size 1000x500 with 1 Axes>",
      "image/png": "[encoded data removed]"
     },
     "metadata": {},
     "output_type": "display_data"
    }
   ],
   "source": [
    "import time\n",
    "import torch\n",
    "from torch import nn, optim\n",
    "from torch.utils.data import DataLoader\n",
    "from torch.optim.lr_scheduler import CosineAnnealingLR\n",
    "import matplotlib.pyplot as plt\n",
    "\n",
    "# Assuming CharLSTM, Shakespeare dataset, and Args classes are already defined\n",
    "\n",
    "# Initialize the model\n",
    "model = CharLSTM()\n",
    "if torch.backends.mps.is_available():\n",
    "    device = torch.device(\"mps\")  # Use MPS on macOS\n",
    "    print(\"Using MPS for acceleration\")\n",
    "else:\n",
    "    device = torch.device(\"cuda\" if torch.cuda.is_available() else \"cpu\")\n",
    "    print(f\"Using {device} for acceleration\")\n",
    "\n",
    "# Move the model to the selected device\n",
    "model.to(device)\n",
    "\n",
    "# Loss function, optimizer, and learning rate scheduler\n",
    "criterion = nn.CrossEntropyLoss()\n",
    "optimizer = optim.SGD(model.parameters(), lr=0.01, momentum=0.9, weight_decay=0.0001)\n",
    "scheduler = CosineAnnealingLR(optimizer, T_max=20)  # T_max = number of epochs\n",
    "\n",
    "# Load the datasets\n",
    "train_dataset = Shakespeare(train=True, args=args)\n",
    "test_dataset = Shakespeare(train=False, args=args)\n",
    "train_loader = DataLoader(train_dataset, batch_size=64, shuffle=True)\n",
    "test_loader = DataLoader(test_dataset, batch_size=64, shuffle=False)\n",
    "\n",
    "# Lists to store test loss and accuracy for plotting\n",
    "test_losses = []\n",
    "test_accuracies = []\n",
    "\n",
    "# Training the model\n",
    "num_epochs = 20\n",
    "for epoch in range(num_epochs):\n",
    "    start_time = time.time()\n",
    "    model.train()\n",
    "    total_loss = 0.0\n",
    "\n",
    "    for batch_idx, (inputs, targets) in enumerate(train_loader):\n",
    "        inputs, targets = inputs.to(device), targets.to(device)\n",
    "\n",
    "        # Forward pass\n",
    "        outputs = model(inputs)\n",
    "        loss = criterion(outputs, targets.argmax(dim=1))\n",
    "\n",
    "        # Backward pass\n",
    "        optimizer.zero_grad()\n",
    "        loss.backward()\n",
    "        optimizer.step()\n",
    "\n",
    "        total_loss += loss.item()\n",
    "\n",
    "    # Step the scheduler\n",
    "    scheduler.step()\n",
    "\n",
    "    # Evaluate on the test dataset\n",
    "    model.eval()\n",
    "    total_test_loss = 0.0\n",
    "    correct = 0\n",
    "    total = 0\n",
    "\n",
    "    with torch.no_grad():\n",
    "        for inputs, targets in test_loader:\n",
    "            inputs, targets = inputs.to(device), targets.to(device)\n",
    "\n",
    "            outputs = model(inputs)\n",
    "            loss = criterion(outputs, targets.argmax(dim=1))\n",
    "            total_test_loss += loss.item()\n",
    "\n",
    "            # Calculate accuracy\n",
    "            _, predicted = torch.max(outputs, 1)\n",
    "            correct += (predicted == targets.argmax(dim=1)).sum().item()\n",
    "            total += targets.size(0)\n",
    "\n",
    "    test_loss = total_test_loss / len(test_loader)\n",
    "    accuracy = 100 * correct / total\n",
    "    test_losses.append(test_loss)\n",
    "    test_accuracies.append(accuracy)\n",
    "    \n",
    "    end_time = time.time()\n",
    "    epoch_time = (end_time - start_time) / 60 \n",
    "\n",
    "    # Log epoch results\n",
    "    print(f\"Epoch [{epoch + 1}/{num_epochs}] - Train Loss: {total_loss / len(train_loader):.4f} - Test Loss: {test_loss:.4f} - Test Accuracy: {accuracy:.2f}% - Time: {epoch_time:.2f} minutes\")\n",
    "\n",
    "print(\"Training complete.\")\n",
    "\n",
    "# Plotting the results\n",
    "epochs = range(1, num_epochs + 1)\n",
    "\n",
    "# Plot Test Loss\n",
    "plt.figure(figsize=(10, 5))\n",
    "plt.plot(epochs, test_losses, label='Test Loss', color='blue', marker='o')\n",
    "plt.xlabel('Epochs')\n",
    "plt.ylabel('Loss')\n",
    "plt.title('Test Loss Over Epochs')\n",
    "plt.legend()\n",
    "plt.grid(alpha=0.3)\n",
    "plt.show()\n",
    "\n",
    "# Plot Test Accuracy\n",
    "plt.figure(figsize=(10, 5))\n",
    "plt.plot(epochs, test_accuracies, label='Test Accuracy', color='green', marker='o')\n",
    "plt.xlabel('Epochs')\n",
    "plt.ylabel('Accuracy (%)')\n",
    "plt.title('Test Accuracy Over Epochs')\n",
    "plt.legend()\n",
    "plt.grid(alpha=0.3)\n",
    "plt.show()\n"
   ],
   "metadata": {
    "collapsed": false,
    "ExecuteTime": {
     "end_time": "2025-01-19T13:14:42.418296Z",
     "start_time": "2025-01-19T09:49:37.908888Z"
    }
   },
   "id": "8751ae2e67e36a54",
   "execution_count": 25
  },
  {
   "cell_type": "code",
   "outputs": [],
   "source": [],
   "metadata": {
    "collapsed": false
   },
   "id": "c80b51fa1851796f"
  }
 ],
 "metadata": {
  "kernelspec": {
   "display_name": "Python 3",
   "language": "python",
   "name": "python3"
  },
  "language_info": {
   "codemirror_mode": {
    "name": "ipython",
    "version": 2
   },
   "file_extension": ".py",
   "mimetype": "text/x-python",
   "name": "python",
   "nbconvert_exporter": "python",
   "pygments_lexer": "ipython2",
   "version": "2.7.6"
  }
 },
 "nbformat": 4,
 "nbformat_minor": 5
}
